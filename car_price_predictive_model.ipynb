{
 "cells": [
  {
   "cell_type": "code",
   "execution_count": 31,
   "id": "62ce54c9",
   "metadata": {},
   "outputs": [],
   "source": [
    "import pandas as pd\n",
    "import numpy as np\n",
    "import matplotlib.pyplot as plt\n",
    "import seaborn as sns"
   ]
  },
  {
   "cell_type": "code",
   "execution_count": 32,
   "id": "bbdc1a67",
   "metadata": {},
   "outputs": [
    {
     "data": {
      "text/html": [
       "<div>\n",
       "<style scoped>\n",
       "    .dataframe tbody tr th:only-of-type {\n",
       "        vertical-align: middle;\n",
       "    }\n",
       "\n",
       "    .dataframe tbody tr th {\n",
       "        vertical-align: top;\n",
       "    }\n",
       "\n",
       "    .dataframe thead th {\n",
       "        text-align: right;\n",
       "    }\n",
       "</style>\n",
       "<table border=\"1\" class=\"dataframe\">\n",
       "  <thead>\n",
       "    <tr style=\"text-align: right;\">\n",
       "      <th></th>\n",
       "      <th>bodystyle</th>\n",
       "      <th>derivative</th>\n",
       "      <th>doors</th>\n",
       "      <th>fueltype</th>\n",
       "      <th>make</th>\n",
       "      <th>mileage</th>\n",
       "      <th>model</th>\n",
       "      <th>price</th>\n",
       "      <th>geartype</th>\n",
       "      <th>fuel_capacity</th>\n",
       "      <th>weight</th>\n",
       "      <th>length</th>\n",
       "      <th>width</th>\n",
       "      <th>height</th>\n",
       "      <th>wheelbase</th>\n",
       "      <th>horsepower</th>\n",
       "      <th>enginesize</th>\n",
       "      <th>emission</th>\n",
       "      <th>torque</th>\n",
       "      <th>year</th>\n",
       "    </tr>\n",
       "  </thead>\n",
       "  <tbody>\n",
       "    <tr>\n",
       "      <th>0</th>\n",
       "      <td>Hatchback</td>\n",
       "      <td>Se Tdi Dsg</td>\n",
       "      <td>5</td>\n",
       "      <td>Diesel</td>\n",
       "      <td>Volkswagen</td>\n",
       "      <td>2655</td>\n",
       "      <td>T-Roc</td>\n",
       "      <td>22995</td>\n",
       "      <td>Automatic</td>\n",
       "      <td>58</td>\n",
       "      <td>1485</td>\n",
       "      <td>4527</td>\n",
       "      <td>1814</td>\n",
       "      <td>1628</td>\n",
       "      <td>2791</td>\n",
       "      <td>108</td>\n",
       "      <td>1598</td>\n",
       "      <td>111</td>\n",
       "      <td>250</td>\n",
       "      <td>2020</td>\n",
       "    </tr>\n",
       "    <tr>\n",
       "      <th>1</th>\n",
       "      <td>Hatchback</td>\n",
       "      <td>1.2 SE 5dr</td>\n",
       "      <td>5</td>\n",
       "      <td>Petrol</td>\n",
       "      <td>Vauxhall</td>\n",
       "      <td>10</td>\n",
       "      <td>Corsa</td>\n",
       "      <td>13590</td>\n",
       "      <td>Manual</td>\n",
       "      <td>40</td>\n",
       "      <td>980</td>\n",
       "      <td>4060</td>\n",
       "      <td>1960</td>\n",
       "      <td>1433</td>\n",
       "      <td>2538</td>\n",
       "      <td>73</td>\n",
       "      <td>1229</td>\n",
       "      <td>118</td>\n",
       "      <td>118</td>\n",
       "      <td>2021</td>\n",
       "    </tr>\n",
       "    <tr>\n",
       "      <th>2</th>\n",
       "      <td>Estate</td>\n",
       "      <td>2.0 P400e R-Dynamic HSE 5dr Auto</td>\n",
       "      <td>5</td>\n",
       "      <td>Plug-in Hybrid</td>\n",
       "      <td>Land Rover</td>\n",
       "      <td>10</td>\n",
       "      <td>Range Rover Velar</td>\n",
       "      <td>68290</td>\n",
       "      <td>Automatic</td>\n",
       "      <td>69</td>\n",
       "      <td>2158</td>\n",
       "      <td>4797</td>\n",
       "      <td>2147</td>\n",
       "      <td>1683</td>\n",
       "      <td>2874</td>\n",
       "      <td>398</td>\n",
       "      <td>1997</td>\n",
       "      <td>56</td>\n",
       "      <td>640</td>\n",
       "      <td>2021</td>\n",
       "    </tr>\n",
       "    <tr>\n",
       "      <th>3</th>\n",
       "      <td>Hatchback</td>\n",
       "      <td>1.0T GDi Blue Drive Premium 5dr</td>\n",
       "      <td>5</td>\n",
       "      <td>Petrol</td>\n",
       "      <td>Hyundai</td>\n",
       "      <td>6497</td>\n",
       "      <td>Kona</td>\n",
       "      <td>14100</td>\n",
       "      <td>Manual</td>\n",
       "      <td>50</td>\n",
       "      <td>1223</td>\n",
       "      <td>4165</td>\n",
       "      <td>2070</td>\n",
       "      <td>1565</td>\n",
       "      <td>2600</td>\n",
       "      <td>118</td>\n",
       "      <td>998</td>\n",
       "      <td>146</td>\n",
       "      <td>172</td>\n",
       "      <td>2019</td>\n",
       "    </tr>\n",
       "    <tr>\n",
       "      <th>4</th>\n",
       "      <td>Hatchback</td>\n",
       "      <td>2.0 D165 R-Dynamic S 5dr 2WD</td>\n",
       "      <td>5</td>\n",
       "      <td>Diesel</td>\n",
       "      <td>Land Rover</td>\n",
       "      <td>343</td>\n",
       "      <td>Range Rover Evoque</td>\n",
       "      <td>43995</td>\n",
       "      <td>Manual</td>\n",
       "      <td>65</td>\n",
       "      <td>1712</td>\n",
       "      <td>4371</td>\n",
       "      <td>2100</td>\n",
       "      <td>1649</td>\n",
       "      <td>2681</td>\n",
       "      <td>163</td>\n",
       "      <td>1997</td>\n",
       "      <td>163</td>\n",
       "      <td>380</td>\n",
       "      <td>2021</td>\n",
       "    </tr>\n",
       "  </tbody>\n",
       "</table>\n",
       "</div>"
      ],
      "text/plain": [
       "   bodystyle                        derivative  doors        fueltype  \\\n",
       "0  Hatchback                        Se Tdi Dsg      5          Diesel   \n",
       "1  Hatchback                        1.2 SE 5dr      5          Petrol   \n",
       "2     Estate  2.0 P400e R-Dynamic HSE 5dr Auto      5  Plug-in Hybrid   \n",
       "3  Hatchback   1.0T GDi Blue Drive Premium 5dr      5          Petrol   \n",
       "4  Hatchback      2.0 D165 R-Dynamic S 5dr 2WD      5          Diesel   \n",
       "\n",
       "         make  mileage               model  price   geartype  fuel_capacity  \\\n",
       "0  Volkswagen     2655               T-Roc  22995  Automatic             58   \n",
       "1    Vauxhall       10               Corsa  13590     Manual             40   \n",
       "2  Land Rover       10   Range Rover Velar  68290  Automatic             69   \n",
       "3     Hyundai     6497                Kona  14100     Manual             50   \n",
       "4  Land Rover      343  Range Rover Evoque  43995     Manual             65   \n",
       "\n",
       "   weight  length  width  height  wheelbase  horsepower  enginesize  emission  \\\n",
       "0    1485    4527   1814    1628       2791         108        1598       111   \n",
       "1     980    4060   1960    1433       2538          73        1229       118   \n",
       "2    2158    4797   2147    1683       2874         398        1997        56   \n",
       "3    1223    4165   2070    1565       2600         118         998       146   \n",
       "4    1712    4371   2100    1649       2681         163        1997       163   \n",
       "\n",
       "   torque  year  \n",
       "0     250  2020  \n",
       "1     118  2021  \n",
       "2     640  2021  \n",
       "3     172  2019  \n",
       "4     380  2021  "
      ]
     },
     "execution_count": 32,
     "metadata": {},
     "output_type": "execute_result"
    }
   ],
   "source": [
    "data = pd.read_csv(\"car_data.csv\")\n",
    "data.head(5)"
   ]
  },
  {
   "cell_type": "code",
   "execution_count": 33,
   "id": "70f3ae3c",
   "metadata": {},
   "outputs": [
    {
     "name": "stdout",
     "output_type": "stream",
     "text": [
      "<class 'pandas.core.frame.DataFrame'>\n",
      "RangeIndex: 1033 entries, 0 to 1032\n",
      "Data columns (total 20 columns):\n",
      " #   Column         Non-Null Count  Dtype \n",
      "---  ------         --------------  ----- \n",
      " 0   bodystyle      1033 non-null   object\n",
      " 1   derivative     1033 non-null   object\n",
      " 2   doors          1033 non-null   int64 \n",
      " 3   fueltype       1033 non-null   object\n",
      " 4   make           1033 non-null   object\n",
      " 5   mileage        1033 non-null   int64 \n",
      " 6   model          1033 non-null   object\n",
      " 7   price          1033 non-null   int64 \n",
      " 8   geartype       1033 non-null   object\n",
      " 9   fuel_capacity  1033 non-null   int64 \n",
      " 10  weight         1033 non-null   int64 \n",
      " 11  length         1033 non-null   int64 \n",
      " 12  width          1033 non-null   int64 \n",
      " 13  height         1033 non-null   int64 \n",
      " 14  wheelbase      1033 non-null   int64 \n",
      " 15  horsepower     1033 non-null   int64 \n",
      " 16  enginesize     1033 non-null   int64 \n",
      " 17  emission       1033 non-null   int64 \n",
      " 18  torque         1033 non-null   int64 \n",
      " 19  year           1033 non-null   int64 \n",
      "dtypes: int64(14), object(6)\n",
      "memory usage: 161.5+ KB\n"
     ]
    }
   ],
   "source": [
    "data.info()"
   ]
  },
  {
   "cell_type": "code",
   "execution_count": 34,
   "id": "fcb41013",
   "metadata": {},
   "outputs": [
    {
     "name": "stdout",
     "output_type": "stream",
     "text": [
      "['Hatchback' 'Estate' 'Station Wagon' 'SUV' 'Saloon' 'HATCHBACK'\n",
      " 'Convertible' 'MPV' 'Coupe' 'ESTATE' 'SALOON' 'Cabriolet'\n",
      " '3 Door Hatchback' 'Suv' 'Roadster' 'Hardtop']\n",
      "['Diesel' 'Petrol' 'Plug-in Hybrid' 'Electric' 'Hybrid' 'Hybrid Electric']\n",
      "['Volkswagen' 'Vauxhall' 'Land Rover' 'Hyundai' 'Peugeot' 'Nissan' 'Kia'\n",
      " 'Ford' 'BMW' 'Jaguar' 'Toyota' 'Alfa Romeo' 'Mercedes' 'Audi' 'Mini'\n",
      " 'Citroen' 'Mazda' 'Seat' 'MG' 'Renault' 'Fiat' 'Mitsubishi' 'Honda'\n",
      " 'Jeep' 'Skoda' 'Dacia' 'Suzuki' 'Volvo' 'Abarth']\n",
      "['Automatic' 'Manual' 'Semi Automatic']\n"
     ]
    }
   ],
   "source": [
    "print(data['bodystyle'].unique())\n",
    "print(data['fueltype'].unique())\n",
    "print(data['make'].unique())\n",
    "print(data['geartype'].unique())"
   ]
  },
  {
   "cell_type": "code",
   "execution_count": 35,
   "id": "d0d47cb2",
   "metadata": {},
   "outputs": [],
   "source": [
    "data['bodystyle'] = data[\"bodystyle\"].map({\n",
    "    'Hatchback': 'Hatchback',\n",
    "    'Estate': 'Estate',\n",
    "    'Saloon': 'Saloon',\n",
    "    'Station Wagon': 'Station Wagon',\n",
    "    'Coupe': 'Coupe',\n",
    "    'SUV': 'SUV',\n",
    "    'HATCHBACK': 'Hatchback',\n",
    "    'Convertible': 'Convertible',\n",
    "    'ESTATE': 'Estate',\n",
    "    'MPV': 'MPV',\n",
    "    'Suv': 'SUV',\n",
    "    'Roadster': 'Roadster',\n",
    "    'SALOON': 'Saloon',\n",
    "    '4x4': 'SUV',\n",
    "    'Cabriolet': 'Cabriolet',\n",
    "    '3 Door Hatchback': 'Hatchback',\n",
    "    'Hardtop': 'SUV'\n",
    "})"
   ]
  },
  {
   "cell_type": "code",
   "execution_count": 36,
   "id": "c1fbdc45",
   "metadata": {},
   "outputs": [
    {
     "data": {
      "text/plain": [
       "{'Hatchback': 0,\n",
       " 'Estate': 1,\n",
       " 'Station Wagon': 2,\n",
       " 'SUV': 3,\n",
       " 'Saloon': 4,\n",
       " 'Convertible': 5,\n",
       " 'MPV': 6,\n",
       " 'Coupe': 7,\n",
       " 'Cabriolet': 8,\n",
       " 'Roadster': 9}"
      ]
     },
     "execution_count": 36,
     "metadata": {},
     "output_type": "execute_result"
    }
   ],
   "source": [
    "bodystyle_mapping = {\n",
    "    k: i\n",
    "    for i, k in enumerate(data[\"bodystyle\"].unique(), 0)\n",
    "}\n",
    "bodystyle_mapping"
   ]
  },
  {
   "cell_type": "code",
   "execution_count": 37,
   "id": "5f6f759f",
   "metadata": {},
   "outputs": [
    {
     "data": {
      "text/plain": [
       "{'Diesel': 0,\n",
       " 'Petrol': 1,\n",
       " 'Plug-in Hybrid': 2,\n",
       " 'Electric': 3,\n",
       " 'Hybrid': 4,\n",
       " 'Hybrid Electric': 5}"
      ]
     },
     "execution_count": 37,
     "metadata": {},
     "output_type": "execute_result"
    }
   ],
   "source": [
    "fueltype_mapping = {\n",
    "    k: i\n",
    "    for i, k in enumerate(data[\"fueltype\"].unique(), 0)\n",
    "}\n",
    "fueltype_mapping"
   ]
  },
  {
   "cell_type": "code",
   "execution_count": 38,
   "id": "1eee419e",
   "metadata": {},
   "outputs": [
    {
     "data": {
      "text/plain": [
       "{'Volkswagen': 0,\n",
       " 'Vauxhall': 1,\n",
       " 'Land Rover': 2,\n",
       " 'Hyundai': 3,\n",
       " 'Peugeot': 4,\n",
       " 'Nissan': 5,\n",
       " 'Kia': 6,\n",
       " 'Ford': 7,\n",
       " 'BMW': 8,\n",
       " 'Jaguar': 9,\n",
       " 'Toyota': 10,\n",
       " 'Alfa Romeo': 11,\n",
       " 'Mercedes': 12,\n",
       " 'Audi': 13,\n",
       " 'Mini': 14,\n",
       " 'Citroen': 15,\n",
       " 'Mazda': 16,\n",
       " 'Seat': 17,\n",
       " 'MG': 18,\n",
       " 'Renault': 19,\n",
       " 'Fiat': 20,\n",
       " 'Mitsubishi': 21,\n",
       " 'Honda': 22,\n",
       " 'Jeep': 23,\n",
       " 'Skoda': 24,\n",
       " 'Dacia': 25,\n",
       " 'Suzuki': 26,\n",
       " 'Volvo': 27,\n",
       " 'Abarth': 28}"
      ]
     },
     "execution_count": 38,
     "metadata": {},
     "output_type": "execute_result"
    }
   ],
   "source": [
    "make_mapping = {\n",
    "    k: i\n",
    "    for i, k in enumerate(data[\"make\"].unique(), 0)\n",
    "}\n",
    "make_mapping"
   ]
  },
  {
   "cell_type": "code",
   "execution_count": 39,
   "id": "f3a7cc49",
   "metadata": {},
   "outputs": [
    {
     "data": {
      "text/plain": [
       "{'T-Roc': 0,\n",
       " 'Corsa': 1,\n",
       " 'Range Rover Velar': 2,\n",
       " 'Kona': 3,\n",
       " 'Range Rover Evoque': 4,\n",
       " 'Discovery Sport': 5,\n",
       " '108': 6,\n",
       " 'Micra': 7,\n",
       " 'Picanto': 8,\n",
       " 'Sportage': 9,\n",
       " 'Focus': 10,\n",
       " 'Astra': 11,\n",
       " 'Defender': 12,\n",
       " '1 Series': 13,\n",
       " 'XE': 14,\n",
       " 'Fiesta': 15,\n",
       " 'Leaf': 16,\n",
       " 'Grandland X': 17,\n",
       " 'Golf': 18,\n",
       " 'Polo': 19,\n",
       " 'X3': 20,\n",
       " '2 Series': 21,\n",
       " 'Aygo': 22,\n",
       " 'Tiguan Allspace': 23,\n",
       " 'Mito': 24,\n",
       " 'Qashqai': 25,\n",
       " 'Range Rover Sport': 26,\n",
       " 'A Class': 27,\n",
       " 'Viva': 28,\n",
       " 'Santa Fe': 29,\n",
       " 'Ka+': 30,\n",
       " 'Sorento': 31,\n",
       " '208': 32,\n",
       " 'Z4': 33,\n",
       " 'A7': 34,\n",
       " 'Rio': 35,\n",
       " 'Hatchback': 36,\n",
       " 'E Class': 37,\n",
       " 'Crossland X': 38,\n",
       " 'Juke': 39,\n",
       " 'X2': 40,\n",
       " 'i10': 41,\n",
       " 'A6': 42,\n",
       " 'Soul': 43,\n",
       " 'Crossland X ': 44,\n",
       " 'C3': 45,\n",
       " 'CX-5': 46,\n",
       " 'Mii': 47,\n",
       " 'Tiguan': 48,\n",
       " 'Tucson': 49,\n",
       " '3008': 50,\n",
       " 'Corsa E': 51,\n",
       " '308': 52,\n",
       " '3 Series': 53,\n",
       " 'Adam': 54,\n",
       " 'ZS': 55,\n",
       " 'Clio': 56,\n",
       " 'Ibiza': 57,\n",
       " 'Niro': 58,\n",
       " '500': 59,\n",
       " 'Meriva': 60,\n",
       " '2008': 61,\n",
       " 'Countryman': 62,\n",
       " 'Ateca': 63,\n",
       " 'Xceed': 64,\n",
       " 'Grand C-Max': 65,\n",
       " 'Ecosport': 66,\n",
       " 'Captur': 67,\n",
       " 'Shogun Sport': 68,\n",
       " 'A3 Sportback': 69,\n",
       " 'A3': 70,\n",
       " 'Kadjar': 71,\n",
       " 'Discovery': 72,\n",
       " 'X5': 73,\n",
       " 'i20': 74,\n",
       " 'Zafira': 75,\n",
       " 'Outlander': 76,\n",
       " '1 Series ': 77,\n",
       " 'X1': 78,\n",
       " 'C Class': 79,\n",
       " 'Ceed': 80,\n",
       " 'B Class': 81,\n",
       " 'Arona': 82,\n",
       " 'Jazz': 83,\n",
       " 'Mokka X': 84,\n",
       " '3': 85,\n",
       " 'Civic': 86,\n",
       " 'Leon': 87,\n",
       " 'Ka': 88,\n",
       " 'X4 ': 89,\n",
       " 'Renegade': 90,\n",
       " 'Convertible': 91,\n",
       " 'A7 Sportback': 92,\n",
       " 'C-HR': 93,\n",
       " 'Venga': 94,\n",
       " 'C4': 95,\n",
       " 'Stinger': 96,\n",
       " 'Q2': 97,\n",
       " 'Yeti Outdoor': 98,\n",
       " 'Sandero': 99,\n",
       " 'X-trail': 100,\n",
       " 'F-Pace': 101,\n",
       " '500x': 102,\n",
       " 'Astra GTC': 103,\n",
       " 'Octavia': 104,\n",
       " 'A5': 105,\n",
       " 'Jimny': 106,\n",
       " 'C-Max': 107,\n",
       " 'Optima': 108,\n",
       " 'V40': 109,\n",
       " 'Pulsar': 110,\n",
       " 'A4': 111,\n",
       " 'Mokka': 112,\n",
       " 'B-Max': 113,\n",
       " 'E-Pace': 114,\n",
       " 'CX-3': 115,\n",
       " 'Clubman': 116,\n",
       " 'C3 Aircross': 117,\n",
       " 'Panda': 118,\n",
       " '595': 119,\n",
       " 'Punto': 120,\n",
       " 'Kuga': 121,\n",
       " 'Partner Tepee': 122,\n",
       " 'CR-V': 123,\n",
       " 'Megane': 124,\n",
       " 'A6 Allroad': 125,\n",
       " 'Vitara': 126,\n",
       " 'Swift': 127,\n",
       " 'TT': 128,\n",
       " 'Zoe': 129,\n",
       " 'Range Rover': 130,\n",
       " 'Passat': 131,\n",
       " 'Fabia': 132,\n",
       " 'X4': 133,\n",
       " 'Touran': 134,\n",
       " '508': 135,\n",
       " 'Q3': 136,\n",
       " 'Sandero Stepway': 137,\n",
       " 'XF': 138,\n",
       " 'Discovery Sport ': 139,\n",
       " 'CLA Class': 140,\n",
       " '500L': 141,\n",
       " 'Scirocco': 142,\n",
       " 'C4 Picasso': 143,\n",
       " 'Beetle': 144,\n",
       " 'Tucson ': 145,\n",
       " 'Paceman': 146,\n",
       " 'Auris': 147,\n",
       " 'Pro Ceed': 148,\n",
       " 'Up': 149,\n",
       " 'Agila': 150,\n",
       " 'Superb': 151,\n",
       " 'Avensis': 152,\n",
       " 'Baleno': 153,\n",
       " 'C4 Cactus': 154,\n",
       " 'Asx': 155,\n",
       " 'Karoq': 156,\n",
       " '2 Series Active Tourer': 157,\n",
       " 'i30': 158,\n",
       " 'Ioniq': 159,\n",
       " 'ix35': 160,\n",
       " 'C1': 161,\n",
       " 'CC': 162,\n",
       " 'XC60': 163,\n",
       " 'ix20': 164,\n",
       " 'Insignia': 165,\n",
       " 'Passat Alltrack': 166,\n",
       " 'Verso': 167,\n",
       " '2': 168,\n",
       " 'i40': 169,\n",
       " 'SX4 S-Cross': 170,\n",
       " 'MX-5': 171,\n",
       " 'Cherokee': 172,\n",
       " 'Mondeo': 173,\n",
       " 'A1': 174,\n",
       " '500L MPW': 175,\n",
       " 'Rapid Spaceback': 176,\n",
       " 'Freelander': 177,\n",
       " 'Note': 178,\n",
       " 'C3 Picasso': 179,\n",
       " 'Yeti': 180,\n",
       " 'M2': 181,\n",
       " 'i3': 182,\n",
       " 'Cascada': 183,\n",
       " 'M3': 184,\n",
       " 'CLS': 185,\n",
       " 'Puma': 186,\n",
       " 'Q8': 187,\n",
       " 'Alto': 188,\n",
       " 'Wrangler': 189,\n",
       " 'Qashqai+2': 190,\n",
       " 'M4': 191,\n",
       " 'Q5': 192}"
      ]
     },
     "execution_count": 39,
     "metadata": {},
     "output_type": "execute_result"
    }
   ],
   "source": [
    "model_mapping = {\n",
    "    k: i\n",
    "    for i, k in enumerate(data[\"model\"].unique(), 0)\n",
    "}\n",
    "model_mapping"
   ]
  },
  {
   "cell_type": "code",
   "execution_count": 40,
   "id": "541cf3d0",
   "metadata": {},
   "outputs": [
    {
     "data": {
      "text/plain": [
       "{'Automatic': 0, 'Manual': 1, 'Semi Automatic': 2}"
      ]
     },
     "execution_count": 40,
     "metadata": {},
     "output_type": "execute_result"
    }
   ],
   "source": [
    "geartype_mapping = {\n",
    "    k: i\n",
    "    for i, k in enumerate(data[\"geartype\"].unique(), 0)\n",
    "}\n",
    "geartype_mapping"
   ]
  },
  {
   "cell_type": "code",
   "execution_count": 41,
   "id": "ca9b92c4",
   "metadata": {},
   "outputs": [],
   "source": [
    "data[\"bodystyle\"] = data[\"bodystyle\"].map(bodystyle_mapping)\n",
    "data[\"geartype\"] = data[\"geartype\"].map(geartype_mapping)\n",
    "data[\"model\"] = data[\"model\"].map(model_mapping)\n",
    "data[\"make\"] = data[\"make\"].map(make_mapping)\n",
    "data[\"fueltype\"] = data[\"fueltype\"].map(fueltype_mapping)"
   ]
  },
  {
   "cell_type": "code",
   "execution_count": 42,
   "id": "015c46f9",
   "metadata": {
    "scrolled": true
   },
   "outputs": [
    {
     "data": {
      "text/html": [
       "<div>\n",
       "<style scoped>\n",
       "    .dataframe tbody tr th:only-of-type {\n",
       "        vertical-align: middle;\n",
       "    }\n",
       "\n",
       "    .dataframe tbody tr th {\n",
       "        vertical-align: top;\n",
       "    }\n",
       "\n",
       "    .dataframe thead th {\n",
       "        text-align: right;\n",
       "    }\n",
       "</style>\n",
       "<table border=\"1\" class=\"dataframe\">\n",
       "  <thead>\n",
       "    <tr style=\"text-align: right;\">\n",
       "      <th></th>\n",
       "      <th>bodystyle</th>\n",
       "      <th>derivative</th>\n",
       "      <th>doors</th>\n",
       "      <th>fueltype</th>\n",
       "      <th>make</th>\n",
       "      <th>mileage</th>\n",
       "      <th>model</th>\n",
       "      <th>price</th>\n",
       "      <th>geartype</th>\n",
       "      <th>fuel_capacity</th>\n",
       "      <th>weight</th>\n",
       "      <th>length</th>\n",
       "      <th>width</th>\n",
       "      <th>height</th>\n",
       "      <th>wheelbase</th>\n",
       "      <th>horsepower</th>\n",
       "      <th>enginesize</th>\n",
       "      <th>emission</th>\n",
       "      <th>torque</th>\n",
       "      <th>year</th>\n",
       "    </tr>\n",
       "  </thead>\n",
       "  <tbody>\n",
       "    <tr>\n",
       "      <th>555</th>\n",
       "      <td>0</td>\n",
       "      <td>2.0 TDI 150 R-Line 3dr</td>\n",
       "      <td>3</td>\n",
       "      <td>0</td>\n",
       "      <td>0</td>\n",
       "      <td>23964</td>\n",
       "      <td>144</td>\n",
       "      <td>16490</td>\n",
       "      <td>1</td>\n",
       "      <td>55</td>\n",
       "      <td>1421</td>\n",
       "      <td>4288</td>\n",
       "      <td>1825</td>\n",
       "      <td>1488</td>\n",
       "      <td>2524</td>\n",
       "      <td>147</td>\n",
       "      <td>1968</td>\n",
       "      <td>119</td>\n",
       "      <td>340</td>\n",
       "      <td>2016</td>\n",
       "    </tr>\n",
       "    <tr>\n",
       "      <th>933</th>\n",
       "      <td>0</td>\n",
       "      <td>1.4 CRDi SR7 5dr</td>\n",
       "      <td>5</td>\n",
       "      <td>0</td>\n",
       "      <td>6</td>\n",
       "      <td>53000</td>\n",
       "      <td>80</td>\n",
       "      <td>6200</td>\n",
       "      <td>1</td>\n",
       "      <td>53</td>\n",
       "      <td>1375</td>\n",
       "      <td>4310</td>\n",
       "      <td>1780</td>\n",
       "      <td>1470</td>\n",
       "      <td>2650</td>\n",
       "      <td>89</td>\n",
       "      <td>1582</td>\n",
       "      <td>114</td>\n",
       "      <td>220</td>\n",
       "      <td>2015</td>\n",
       "    </tr>\n",
       "    <tr>\n",
       "      <th>18</th>\n",
       "      <td>0</td>\n",
       "      <td>118i [136] M Sport 5dr Step Auto</td>\n",
       "      <td>5</td>\n",
       "      <td>1</td>\n",
       "      <td>8</td>\n",
       "      <td>1827</td>\n",
       "      <td>13</td>\n",
       "      <td>29500</td>\n",
       "      <td>0</td>\n",
       "      <td>42</td>\n",
       "      <td>1320</td>\n",
       "      <td>4319</td>\n",
       "      <td>2081</td>\n",
       "      <td>1434</td>\n",
       "      <td>2670</td>\n",
       "      <td>134</td>\n",
       "      <td>1499</td>\n",
       "      <td>134</td>\n",
       "      <td>220</td>\n",
       "      <td>2021</td>\n",
       "    </tr>\n",
       "    <tr>\n",
       "      <th>318</th>\n",
       "      <td>0</td>\n",
       "      <td>1.4 [75] Energy 3dr</td>\n",
       "      <td>3</td>\n",
       "      <td>1</td>\n",
       "      <td>1</td>\n",
       "      <td>8725</td>\n",
       "      <td>1</td>\n",
       "      <td>9450</td>\n",
       "      <td>1</td>\n",
       "      <td>45</td>\n",
       "      <td>1166</td>\n",
       "      <td>4021</td>\n",
       "      <td>1944</td>\n",
       "      <td>1479</td>\n",
       "      <td>2510</td>\n",
       "      <td>73</td>\n",
       "      <td>1398</td>\n",
       "      <td>118</td>\n",
       "      <td>130</td>\n",
       "      <td>2018</td>\n",
       "    </tr>\n",
       "    <tr>\n",
       "      <th>491</th>\n",
       "      <td>0</td>\n",
       "      <td>1.5 EcoBlue 120 Zetec 5dr</td>\n",
       "      <td>5</td>\n",
       "      <td>0</td>\n",
       "      <td>7</td>\n",
       "      <td>3580</td>\n",
       "      <td>10</td>\n",
       "      <td>13650</td>\n",
       "      <td>1</td>\n",
       "      <td>47</td>\n",
       "      <td>1288</td>\n",
       "      <td>4378</td>\n",
       "      <td>1979</td>\n",
       "      <td>0</td>\n",
       "      <td>2700</td>\n",
       "      <td>118</td>\n",
       "      <td>1499</td>\n",
       "      <td>119</td>\n",
       "      <td>300</td>\n",
       "      <td>2018</td>\n",
       "    </tr>\n",
       "    <tr>\n",
       "      <th>362</th>\n",
       "      <td>0</td>\n",
       "      <td>1.0 EcoBoost ST-Line X 3dr</td>\n",
       "      <td>3</td>\n",
       "      <td>1</td>\n",
       "      <td>7</td>\n",
       "      <td>28751</td>\n",
       "      <td>15</td>\n",
       "      <td>14100</td>\n",
       "      <td>1</td>\n",
       "      <td>42</td>\n",
       "      <td>1144</td>\n",
       "      <td>4040</td>\n",
       "      <td>1941</td>\n",
       "      <td>1476</td>\n",
       "      <td>2493</td>\n",
       "      <td>98</td>\n",
       "      <td>998</td>\n",
       "      <td>108</td>\n",
       "      <td>170</td>\n",
       "      <td>2019</td>\n",
       "    </tr>\n",
       "    <tr>\n",
       "      <th>398</th>\n",
       "      <td>0</td>\n",
       "      <td>1.5 EcoBlue 120 ST-Line 5dr</td>\n",
       "      <td>5</td>\n",
       "      <td>0</td>\n",
       "      <td>7</td>\n",
       "      <td>20347</td>\n",
       "      <td>10</td>\n",
       "      <td>17800</td>\n",
       "      <td>1</td>\n",
       "      <td>47</td>\n",
       "      <td>1288</td>\n",
       "      <td>4387</td>\n",
       "      <td>1979</td>\n",
       "      <td>0</td>\n",
       "      <td>2700</td>\n",
       "      <td>118</td>\n",
       "      <td>1499</td>\n",
       "      <td>119</td>\n",
       "      <td>300</td>\n",
       "      <td>2020</td>\n",
       "    </tr>\n",
       "    <tr>\n",
       "      <th>317</th>\n",
       "      <td>0</td>\n",
       "      <td>118d Sport 5dr [Nav/Servotronic]</td>\n",
       "      <td>5</td>\n",
       "      <td>0</td>\n",
       "      <td>8</td>\n",
       "      <td>24891</td>\n",
       "      <td>13</td>\n",
       "      <td>15890</td>\n",
       "      <td>1</td>\n",
       "      <td>52</td>\n",
       "      <td>1320</td>\n",
       "      <td>4324</td>\n",
       "      <td>1984</td>\n",
       "      <td>1421</td>\n",
       "      <td>2690</td>\n",
       "      <td>140</td>\n",
       "      <td>1995</td>\n",
       "      <td>115</td>\n",
       "      <td>320</td>\n",
       "      <td>2018</td>\n",
       "    </tr>\n",
       "    <tr>\n",
       "      <th>107</th>\n",
       "      <td>0</td>\n",
       "      <td>1.0 SE 5dr</td>\n",
       "      <td>5</td>\n",
       "      <td>1</td>\n",
       "      <td>17</td>\n",
       "      <td>26590</td>\n",
       "      <td>57</td>\n",
       "      <td>10000</td>\n",
       "      <td>1</td>\n",
       "      <td>45</td>\n",
       "      <td>1043</td>\n",
       "      <td>4061</td>\n",
       "      <td>1693</td>\n",
       "      <td>1445</td>\n",
       "      <td>2469</td>\n",
       "      <td>73</td>\n",
       "      <td>999</td>\n",
       "      <td>118</td>\n",
       "      <td>95</td>\n",
       "      <td>2017</td>\n",
       "    </tr>\n",
       "    <tr>\n",
       "      <th>26</th>\n",
       "      <td>0</td>\n",
       "      <td>1.2 Elite 5dr</td>\n",
       "      <td>5</td>\n",
       "      <td>1</td>\n",
       "      <td>1</td>\n",
       "      <td>10</td>\n",
       "      <td>1</td>\n",
       "      <td>14490</td>\n",
       "      <td>1</td>\n",
       "      <td>40</td>\n",
       "      <td>980</td>\n",
       "      <td>4060</td>\n",
       "      <td>1960</td>\n",
       "      <td>1433</td>\n",
       "      <td>2538</td>\n",
       "      <td>73</td>\n",
       "      <td>1229</td>\n",
       "      <td>118</td>\n",
       "      <td>118</td>\n",
       "      <td>2021</td>\n",
       "    </tr>\n",
       "  </tbody>\n",
       "</table>\n",
       "</div>"
      ],
      "text/plain": [
       "     bodystyle                        derivative  doors  fueltype  make  \\\n",
       "555          0            2.0 TDI 150 R-Line 3dr      3         0     0   \n",
       "933          0                  1.4 CRDi SR7 5dr      5         0     6   \n",
       "18           0  118i [136] M Sport 5dr Step Auto      5         1     8   \n",
       "318          0               1.4 [75] Energy 3dr      3         1     1   \n",
       "491          0         1.5 EcoBlue 120 Zetec 5dr      5         0     7   \n",
       "362          0        1.0 EcoBoost ST-Line X 3dr      3         1     7   \n",
       "398          0       1.5 EcoBlue 120 ST-Line 5dr      5         0     7   \n",
       "317          0  118d Sport 5dr [Nav/Servotronic]      5         0     8   \n",
       "107          0                        1.0 SE 5dr      5         1    17   \n",
       "26           0                     1.2 Elite 5dr      5         1     1   \n",
       "\n",
       "     mileage  model  price  geartype  fuel_capacity  weight  length  width  \\\n",
       "555    23964    144  16490         1             55    1421    4288   1825   \n",
       "933    53000     80   6200         1             53    1375    4310   1780   \n",
       "18      1827     13  29500         0             42    1320    4319   2081   \n",
       "318     8725      1   9450         1             45    1166    4021   1944   \n",
       "491     3580     10  13650         1             47    1288    4378   1979   \n",
       "362    28751     15  14100         1             42    1144    4040   1941   \n",
       "398    20347     10  17800         1             47    1288    4387   1979   \n",
       "317    24891     13  15890         1             52    1320    4324   1984   \n",
       "107    26590     57  10000         1             45    1043    4061   1693   \n",
       "26        10      1  14490         1             40     980    4060   1960   \n",
       "\n",
       "     height  wheelbase  horsepower  enginesize  emission  torque  year  \n",
       "555    1488       2524         147        1968       119     340  2016  \n",
       "933    1470       2650          89        1582       114     220  2015  \n",
       "18     1434       2670         134        1499       134     220  2021  \n",
       "318    1479       2510          73        1398       118     130  2018  \n",
       "491       0       2700         118        1499       119     300  2018  \n",
       "362    1476       2493          98         998       108     170  2019  \n",
       "398       0       2700         118        1499       119     300  2020  \n",
       "317    1421       2690         140        1995       115     320  2018  \n",
       "107    1445       2469          73         999       118      95  2017  \n",
       "26     1433       2538          73        1229       118     118  2021  "
      ]
     },
     "execution_count": 42,
     "metadata": {},
     "output_type": "execute_result"
    }
   ],
   "source": [
    "data.sample(10)"
   ]
  },
  {
   "cell_type": "code",
   "execution_count": 43,
   "id": "b1d91445",
   "metadata": {},
   "outputs": [
    {
     "data": {
      "image/png": "[encoded data removed]",
      "text/plain": [
       "<Figure size 864x720 with 2 Axes>"
      ]
     },
     "metadata": {
      "needs_background": "light"
     },
     "output_type": "display_data"
    }
   ],
   "source": [
    "plt.figure(figsize=(12,10))\n",
    "sns.heatmap(data.corr(),annot=True,cmap=\"magma\",fmt='.2f');"
   ]
  },
  {
   "cell_type": "code",
   "execution_count": 44,
   "id": "b6f1faa2",
   "metadata": {},
   "outputs": [],
   "source": [
    "data.drop(\"derivative\", axis=1, inplace=True)"
   ]
  },
  {
   "cell_type": "code",
   "execution_count": 45,
   "id": "2f5c6fbd",
   "metadata": {},
   "outputs": [],
   "source": [
    "from sklearn.preprocessing import StandardScaler\n",
    "from sklearn.model_selection import train_test_split\n",
    "from sklearn.preprocessing import MinMaxScaler"
   ]
  },
  {
   "cell_type": "code",
   "execution_count": 46,
   "id": "9a565d93",
   "metadata": {},
   "outputs": [
    {
     "data": {
      "text/plain": [
       "((826, 18), (207, 18))"
      ]
     },
     "execution_count": 46,
     "metadata": {},
     "output_type": "execute_result"
    }
   ],
   "source": [
    "np.random.seed(42)\n",
    "\n",
    "#Spltting the data to X & y\n",
    "x = data.drop(\"price\", axis=1)\n",
    "y = data[\"price\"]\n",
    "\n",
    "#Splitting the data into train and test sets\n",
    "x_train, x_test, y_train, y_test = train_test_split(x,y, test_size=0.2)\n",
    "\n",
    "x_train.shape, x_test.shape"
   ]
  },
  {
   "cell_type": "code",
   "execution_count": 47,
   "id": "3dca26c8",
   "metadata": {},
   "outputs": [],
   "source": [
    "#Instantiate the scaler \n",
    "scaler = StandardScaler()\n",
    "\n",
    "#Fit the scaler to the train set\n",
    "scaler.fit(x_train)\n",
    "\n",
    "#Transform the train and test sets \n",
    "x_train_scaled = scaler.transform(x_train)\n",
    "x_test_scaled = scaler.transform(x_test)"
   ]
  },
  {
   "cell_type": "code",
   "execution_count": 48,
   "id": "4ad903b8",
   "metadata": {},
   "outputs": [],
   "source": [
    "x_train_scaled = pd.DataFrame(x_train_scaled, columns=x_train.columns)\n",
    "x_test_scaled = pd.DataFrame(x_test_scaled, columns=x_test.columns)"
   ]
  },
  {
   "cell_type": "code",
   "execution_count": 49,
   "id": "4fe16dea",
   "metadata": {},
   "outputs": [
    {
     "data": {
      "text/html": [
       "<div>\n",
       "<style scoped>\n",
       "    .dataframe tbody tr th:only-of-type {\n",
       "        vertical-align: middle;\n",
       "    }\n",
       "\n",
       "    .dataframe tbody tr th {\n",
       "        vertical-align: top;\n",
       "    }\n",
       "\n",
       "    .dataframe thead th {\n",
       "        text-align: right;\n",
       "    }\n",
       "</style>\n",
       "<table border=\"1\" class=\"dataframe\">\n",
       "  <thead>\n",
       "    <tr style=\"text-align: right;\">\n",
       "      <th></th>\n",
       "      <th>bodystyle</th>\n",
       "      <th>doors</th>\n",
       "      <th>fueltype</th>\n",
       "      <th>make</th>\n",
       "      <th>mileage</th>\n",
       "      <th>model</th>\n",
       "      <th>geartype</th>\n",
       "      <th>fuel_capacity</th>\n",
       "      <th>weight</th>\n",
       "      <th>length</th>\n",
       "      <th>width</th>\n",
       "      <th>height</th>\n",
       "      <th>wheelbase</th>\n",
       "      <th>horsepower</th>\n",
       "      <th>enginesize</th>\n",
       "      <th>emission</th>\n",
       "      <th>torque</th>\n",
       "      <th>year</th>\n",
       "    </tr>\n",
       "  </thead>\n",
       "  <tbody>\n",
       "    <tr>\n",
       "      <th>count</th>\n",
       "      <td>826.0</td>\n",
       "      <td>826.0</td>\n",
       "      <td>826.0</td>\n",
       "      <td>826.0</td>\n",
       "      <td>826.0</td>\n",
       "      <td>826.0</td>\n",
       "      <td>826.0</td>\n",
       "      <td>826.0</td>\n",
       "      <td>826.0</td>\n",
       "      <td>826.0</td>\n",
       "      <td>826.0</td>\n",
       "      <td>826.0</td>\n",
       "      <td>826.0</td>\n",
       "      <td>826.0</td>\n",
       "      <td>826.0</td>\n",
       "      <td>826.0</td>\n",
       "      <td>826.0</td>\n",
       "      <td>826.0</td>\n",
       "    </tr>\n",
       "    <tr>\n",
       "      <th>mean</th>\n",
       "      <td>-0.0</td>\n",
       "      <td>-0.0</td>\n",
       "      <td>-0.0</td>\n",
       "      <td>0.0</td>\n",
       "      <td>-0.0</td>\n",
       "      <td>-0.0</td>\n",
       "      <td>-0.0</td>\n",
       "      <td>0.0</td>\n",
       "      <td>-0.0</td>\n",
       "      <td>0.0</td>\n",
       "      <td>-0.0</td>\n",
       "      <td>0.0</td>\n",
       "      <td>0.0</td>\n",
       "      <td>0.0</td>\n",
       "      <td>0.0</td>\n",
       "      <td>0.0</td>\n",
       "      <td>0.0</td>\n",
       "      <td>0.0</td>\n",
       "    </tr>\n",
       "    <tr>\n",
       "      <th>std</th>\n",
       "      <td>1.0</td>\n",
       "      <td>1.0</td>\n",
       "      <td>1.0</td>\n",
       "      <td>1.0</td>\n",
       "      <td>1.0</td>\n",
       "      <td>1.0</td>\n",
       "      <td>1.0</td>\n",
       "      <td>1.0</td>\n",
       "      <td>1.0</td>\n",
       "      <td>1.0</td>\n",
       "      <td>1.0</td>\n",
       "      <td>1.0</td>\n",
       "      <td>1.0</td>\n",
       "      <td>1.0</td>\n",
       "      <td>1.0</td>\n",
       "      <td>1.0</td>\n",
       "      <td>1.0</td>\n",
       "      <td>1.0</td>\n",
       "    </tr>\n",
       "    <tr>\n",
       "      <th>min</th>\n",
       "      <td>-0.5</td>\n",
       "      <td>-3.3</td>\n",
       "      <td>-1.1</td>\n",
       "      <td>-1.1</td>\n",
       "      <td>-1.7</td>\n",
       "      <td>-1.2</td>\n",
       "      <td>-1.6</td>\n",
       "      <td>-2.5</td>\n",
       "      <td>-2.5</td>\n",
       "      <td>-7.0</td>\n",
       "      <td>-12.6</td>\n",
       "      <td>-2.8</td>\n",
       "      <td>-14.3</td>\n",
       "      <td>-1.5</td>\n",
       "      <td>-3.3</td>\n",
       "      <td>-4.2</td>\n",
       "      <td>-2.0</td>\n",
       "      <td>-4.0</td>\n",
       "    </tr>\n",
       "    <tr>\n",
       "      <th>25%</th>\n",
       "      <td>-0.5</td>\n",
       "      <td>0.4</td>\n",
       "      <td>-1.1</td>\n",
       "      <td>-0.9</td>\n",
       "      <td>-0.8</td>\n",
       "      <td>-0.9</td>\n",
       "      <td>-1.6</td>\n",
       "      <td>-0.3</td>\n",
       "      <td>-0.3</td>\n",
       "      <td>-0.7</td>\n",
       "      <td>-0.3</td>\n",
       "      <td>0.1</td>\n",
       "      <td>-0.5</td>\n",
       "      <td>-0.6</td>\n",
       "      <td>-0.7</td>\n",
       "      <td>-0.5</td>\n",
       "      <td>-0.7</td>\n",
       "      <td>-0.5</td>\n",
       "    </tr>\n",
       "    <tr>\n",
       "      <th>50%</th>\n",
       "      <td>-0.5</td>\n",
       "      <td>0.4</td>\n",
       "      <td>0.6</td>\n",
       "      <td>-0.1</td>\n",
       "      <td>-0.1</td>\n",
       "      <td>-0.3</td>\n",
       "      <td>0.6</td>\n",
       "      <td>-0.1</td>\n",
       "      <td>0.2</td>\n",
       "      <td>0.1</td>\n",
       "      <td>0.2</td>\n",
       "      <td>0.2</td>\n",
       "      <td>0.1</td>\n",
       "      <td>-0.1</td>\n",
       "      <td>-0.2</td>\n",
       "      <td>-0.1</td>\n",
       "      <td>-0.2</td>\n",
       "      <td>-0.0</td>\n",
       "    </tr>\n",
       "    <tr>\n",
       "      <th>75%</th>\n",
       "      <td>0.1</td>\n",
       "      <td>0.4</td>\n",
       "      <td>0.6</td>\n",
       "      <td>0.6</td>\n",
       "      <td>0.6</td>\n",
       "      <td>0.7</td>\n",
       "      <td>0.6</td>\n",
       "      <td>0.3</td>\n",
       "      <td>0.5</td>\n",
       "      <td>0.6</td>\n",
       "      <td>0.6</td>\n",
       "      <td>0.4</td>\n",
       "      <td>0.4</td>\n",
       "      <td>0.2</td>\n",
       "      <td>0.8</td>\n",
       "      <td>0.5</td>\n",
       "      <td>0.5</td>\n",
       "      <td>0.5</td>\n",
       "    </tr>\n",
       "    <tr>\n",
       "      <th>max</th>\n",
       "      <td>5.3</td>\n",
       "      <td>1.7</td>\n",
       "      <td>7.0</td>\n",
       "      <td>3.0</td>\n",
       "      <td>3.6</td>\n",
       "      <td>2.7</td>\n",
       "      <td>2.7</td>\n",
       "      <td>24.3</td>\n",
       "      <td>2.2</td>\n",
       "      <td>2.2</td>\n",
       "      <td>1.7</td>\n",
       "      <td>5.6</td>\n",
       "      <td>2.2</td>\n",
       "      <td>5.0</td>\n",
       "      <td>3.7</td>\n",
       "      <td>3.6</td>\n",
       "      <td>3.6</td>\n",
       "      <td>2.0</td>\n",
       "    </tr>\n",
       "  </tbody>\n",
       "</table>\n",
       "</div>"
      ],
      "text/plain": [
       "       bodystyle  doors  fueltype   make  mileage  model  geartype  \\\n",
       "count      826.0  826.0     826.0  826.0    826.0  826.0     826.0   \n",
       "mean        -0.0   -0.0      -0.0    0.0     -0.0   -0.0      -0.0   \n",
       "std          1.0    1.0       1.0    1.0      1.0    1.0       1.0   \n",
       "min         -0.5   -3.3      -1.1   -1.1     -1.7   -1.2      -1.6   \n",
       "25%         -0.5    0.4      -1.1   -0.9     -0.8   -0.9      -1.6   \n",
       "50%         -0.5    0.4       0.6   -0.1     -0.1   -0.3       0.6   \n",
       "75%          0.1    0.4       0.6    0.6      0.6    0.7       0.6   \n",
       "max          5.3    1.7       7.0    3.0      3.6    2.7       2.7   \n",
       "\n",
       "       fuel_capacity  weight  length  width  height  wheelbase  horsepower  \\\n",
       "count          826.0   826.0   826.0  826.0   826.0      826.0       826.0   \n",
       "mean             0.0    -0.0     0.0   -0.0     0.0        0.0         0.0   \n",
       "std              1.0     1.0     1.0    1.0     1.0        1.0         1.0   \n",
       "min             -2.5    -2.5    -7.0  -12.6    -2.8      -14.3        -1.5   \n",
       "25%             -0.3    -0.3    -0.7   -0.3     0.1       -0.5        -0.6   \n",
       "50%             -0.1     0.2     0.1    0.2     0.2        0.1        -0.1   \n",
       "75%              0.3     0.5     0.6    0.6     0.4        0.4         0.2   \n",
       "max             24.3     2.2     2.2    1.7     5.6        2.2         5.0   \n",
       "\n",
       "       enginesize  emission  torque   year  \n",
       "count       826.0     826.0   826.0  826.0  \n",
       "mean          0.0       0.0     0.0    0.0  \n",
       "std           1.0       1.0     1.0    1.0  \n",
       "min          -3.3      -4.2    -2.0   -4.0  \n",
       "25%          -0.7      -0.5    -0.7   -0.5  \n",
       "50%          -0.2      -0.1    -0.2   -0.0  \n",
       "75%           0.8       0.5     0.5    0.5  \n",
       "max           3.7       3.6     3.6    2.0  "
      ]
     },
     "execution_count": 49,
     "metadata": {},
     "output_type": "execute_result"
    }
   ],
   "source": [
    "np.round(x_train_scaled.describe(), 1)"
   ]
  },
  {
   "cell_type": "code",
   "execution_count": 50,
   "id": "2ac33de2",
   "metadata": {},
   "outputs": [
    {
     "data": {
      "image/png": "[encoded data removed]",
      "text/plain": [
       "<Figure size 864x360 with 2 Axes>"
      ]
     },
     "metadata": {
      "needs_background": "light"
     },
     "output_type": "display_data"
    }
   ],
   "source": [
    "#Comparing the variable distribution before and after scaling \n",
    "\n",
    "fig, (ax1, ax2) = plt.subplots(ncols=2, figsize=(12, 5))\n",
    "\n",
    "#before scaling\n",
    "ax1.set_title('Before Scaling')\n",
    "sns.kdeplot(x_train['mileage'], ax=ax1)\n",
    "sns.kdeplot(x_train['weight'], ax=ax1)\n",
    "sns.kdeplot(x_train['model'], ax=ax1)\n",
    "\n",
    "#after scaling\n",
    "ax2.set_title('After Standard Scaling')\n",
    "sns.kdeplot(x_train_scaled['mileage'], ax=ax2)\n",
    "sns.kdeplot(x_train_scaled['weight'], ax=ax2)\n",
    "sns.kdeplot(x_train_scaled['model'], ax=ax2)\n",
    "plt.show()"
   ]
  },
  {
   "cell_type": "code",
   "execution_count": 51,
   "id": "68086c3a",
   "metadata": {},
   "outputs": [],
   "source": [
    "min_max_scaler = MinMaxScaler()\n",
    "min_max_scaler.fit(x_train)\n",
    "\n",
    "x_train_scaled = min_max_scaler.transform(x_train)\n",
    "x_test_scaled = min_max_scaler.transform(x_test)"
   ]
  },
  {
   "cell_type": "code",
   "execution_count": 52,
   "id": "df1083f5",
   "metadata": {},
   "outputs": [
    {
     "data": {
      "text/html": [
       "<div>\n",
       "<style scoped>\n",
       "    .dataframe tbody tr th:only-of-type {\n",
       "        vertical-align: middle;\n",
       "    }\n",
       "\n",
       "    .dataframe tbody tr th {\n",
       "        vertical-align: top;\n",
       "    }\n",
       "\n",
       "    .dataframe thead th {\n",
       "        text-align: right;\n",
       "    }\n",
       "</style>\n",
       "<table border=\"1\" class=\"dataframe\">\n",
       "  <thead>\n",
       "    <tr style=\"text-align: right;\">\n",
       "      <th></th>\n",
       "      <th>bodystyle</th>\n",
       "      <th>doors</th>\n",
       "      <th>fueltype</th>\n",
       "      <th>make</th>\n",
       "      <th>mileage</th>\n",
       "      <th>model</th>\n",
       "      <th>geartype</th>\n",
       "      <th>fuel_capacity</th>\n",
       "      <th>weight</th>\n",
       "      <th>length</th>\n",
       "      <th>width</th>\n",
       "      <th>height</th>\n",
       "      <th>wheelbase</th>\n",
       "      <th>horsepower</th>\n",
       "      <th>enginesize</th>\n",
       "      <th>emission</th>\n",
       "      <th>torque</th>\n",
       "      <th>year</th>\n",
       "    </tr>\n",
       "  </thead>\n",
       "  <tbody>\n",
       "    <tr>\n",
       "      <th>count</th>\n",
       "      <td>826.0</td>\n",
       "      <td>826.0</td>\n",
       "      <td>826.0</td>\n",
       "      <td>826.0</td>\n",
       "      <td>826.0</td>\n",
       "      <td>826.0</td>\n",
       "      <td>826.0</td>\n",
       "      <td>826.0</td>\n",
       "      <td>826.0</td>\n",
       "      <td>826.0</td>\n",
       "      <td>826.0</td>\n",
       "      <td>826.0</td>\n",
       "      <td>826.0</td>\n",
       "      <td>826.0</td>\n",
       "      <td>826.0</td>\n",
       "      <td>826.0</td>\n",
       "      <td>826.0</td>\n",
       "      <td>826.0</td>\n",
       "    </tr>\n",
       "    <tr>\n",
       "      <th>mean</th>\n",
       "      <td>0.8</td>\n",
       "      <td>4.6</td>\n",
       "      <td>0.7</td>\n",
       "      <td>7.7</td>\n",
       "      <td>28190.5</td>\n",
       "      <td>57.8</td>\n",
       "      <td>0.7</td>\n",
       "      <td>52.2</td>\n",
       "      <td>1225.5</td>\n",
       "      <td>4295.1</td>\n",
       "      <td>1974.8</td>\n",
       "      <td>1402.8</td>\n",
       "      <td>2623.4</td>\n",
       "      <td>135.3</td>\n",
       "      <td>1589.3</td>\n",
       "      <td>129.0</td>\n",
       "      <td>252.4</td>\n",
       "      <td>2017.0</td>\n",
       "    </tr>\n",
       "    <tr>\n",
       "      <th>std</th>\n",
       "      <td>1.5</td>\n",
       "      <td>0.8</td>\n",
       "      <td>0.6</td>\n",
       "      <td>6.8</td>\n",
       "      <td>17011.7</td>\n",
       "      <td>50.1</td>\n",
       "      <td>0.5</td>\n",
       "      <td>20.6</td>\n",
       "      <td>485.6</td>\n",
       "      <td>325.9</td>\n",
       "      <td>140.9</td>\n",
       "      <td>494.7</td>\n",
       "      <td>183.2</td>\n",
       "      <td>53.8</td>\n",
       "      <td>477.1</td>\n",
       "      <td>30.6</td>\n",
       "      <td>124.8</td>\n",
       "      <td>2.0</td>\n",
       "    </tr>\n",
       "    <tr>\n",
       "      <th>min</th>\n",
       "      <td>0.0</td>\n",
       "      <td>2.0</td>\n",
       "      <td>0.0</td>\n",
       "      <td>0.0</td>\n",
       "      <td>5.0</td>\n",
       "      <td>0.0</td>\n",
       "      <td>0.0</td>\n",
       "      <td>0.0</td>\n",
       "      <td>0.0</td>\n",
       "      <td>2004.0</td>\n",
       "      <td>194.0</td>\n",
       "      <td>0.0</td>\n",
       "      <td>0.0</td>\n",
       "      <td>54.0</td>\n",
       "      <td>0.0</td>\n",
       "      <td>0.0</td>\n",
       "      <td>0.0</td>\n",
       "      <td>2009.0</td>\n",
       "    </tr>\n",
       "    <tr>\n",
       "      <th>25%</th>\n",
       "      <td>0.0</td>\n",
       "      <td>5.0</td>\n",
       "      <td>0.0</td>\n",
       "      <td>1.2</td>\n",
       "      <td>14794.8</td>\n",
       "      <td>14.0</td>\n",
       "      <td>0.0</td>\n",
       "      <td>45.0</td>\n",
       "      <td>1088.0</td>\n",
       "      <td>4060.8</td>\n",
       "      <td>1932.0</td>\n",
       "      <td>1434.0</td>\n",
       "      <td>2538.0</td>\n",
       "      <td>103.0</td>\n",
       "      <td>1242.0</td>\n",
       "      <td>114.0</td>\n",
       "      <td>160.0</td>\n",
       "      <td>2016.0</td>\n",
       "    </tr>\n",
       "    <tr>\n",
       "      <th>50%</th>\n",
       "      <td>0.0</td>\n",
       "      <td>5.0</td>\n",
       "      <td>1.0</td>\n",
       "      <td>7.0</td>\n",
       "      <td>26910.0</td>\n",
       "      <td>41.0</td>\n",
       "      <td>1.0</td>\n",
       "      <td>50.0</td>\n",
       "      <td>1302.0</td>\n",
       "      <td>4324.0</td>\n",
       "      <td>2004.0</td>\n",
       "      <td>1484.0</td>\n",
       "      <td>2646.0</td>\n",
       "      <td>129.0</td>\n",
       "      <td>1499.0</td>\n",
       "      <td>125.0</td>\n",
       "      <td>230.0</td>\n",
       "      <td>2017.0</td>\n",
       "    </tr>\n",
       "    <tr>\n",
       "      <th>75%</th>\n",
       "      <td>1.0</td>\n",
       "      <td>5.0</td>\n",
       "      <td>1.0</td>\n",
       "      <td>12.0</td>\n",
       "      <td>38501.0</td>\n",
       "      <td>91.0</td>\n",
       "      <td>1.0</td>\n",
       "      <td>58.0</td>\n",
       "      <td>1485.0</td>\n",
       "      <td>4480.0</td>\n",
       "      <td>2065.0</td>\n",
       "      <td>1601.0</td>\n",
       "      <td>2690.0</td>\n",
       "      <td>147.0</td>\n",
       "      <td>1968.0</td>\n",
       "      <td>145.8</td>\n",
       "      <td>320.0</td>\n",
       "      <td>2018.0</td>\n",
       "    </tr>\n",
       "    <tr>\n",
       "      <th>max</th>\n",
       "      <td>9.0</td>\n",
       "      <td>6.0</td>\n",
       "      <td>5.0</td>\n",
       "      <td>28.0</td>\n",
       "      <td>89386.0</td>\n",
       "      <td>192.0</td>\n",
       "      <td>2.0</td>\n",
       "      <td>552.0</td>\n",
       "      <td>2311.0</td>\n",
       "      <td>5018.0</td>\n",
       "      <td>2220.0</td>\n",
       "      <td>4179.0</td>\n",
       "      <td>3022.0</td>\n",
       "      <td>404.0</td>\n",
       "      <td>3342.0</td>\n",
       "      <td>239.0</td>\n",
       "      <td>700.0</td>\n",
       "      <td>2021.0</td>\n",
       "    </tr>\n",
       "  </tbody>\n",
       "</table>\n",
       "</div>"
      ],
      "text/plain": [
       "       bodystyle  doors  fueltype   make  mileage  model  geartype  \\\n",
       "count      826.0  826.0     826.0  826.0    826.0  826.0     826.0   \n",
       "mean         0.8    4.6       0.7    7.7  28190.5   57.8       0.7   \n",
       "std          1.5    0.8       0.6    6.8  17011.7   50.1       0.5   \n",
       "min          0.0    2.0       0.0    0.0      5.0    0.0       0.0   \n",
       "25%          0.0    5.0       0.0    1.2  14794.8   14.0       0.0   \n",
       "50%          0.0    5.0       1.0    7.0  26910.0   41.0       1.0   \n",
       "75%          1.0    5.0       1.0   12.0  38501.0   91.0       1.0   \n",
       "max          9.0    6.0       5.0   28.0  89386.0  192.0       2.0   \n",
       "\n",
       "       fuel_capacity  weight  length   width  height  wheelbase  horsepower  \\\n",
       "count          826.0   826.0   826.0   826.0   826.0      826.0       826.0   \n",
       "mean            52.2  1225.5  4295.1  1974.8  1402.8     2623.4       135.3   \n",
       "std             20.6   485.6   325.9   140.9   494.7      183.2        53.8   \n",
       "min              0.0     0.0  2004.0   194.0     0.0        0.0        54.0   \n",
       "25%             45.0  1088.0  4060.8  1932.0  1434.0     2538.0       103.0   \n",
       "50%             50.0  1302.0  4324.0  2004.0  1484.0     2646.0       129.0   \n",
       "75%             58.0  1485.0  4480.0  2065.0  1601.0     2690.0       147.0   \n",
       "max            552.0  2311.0  5018.0  2220.0  4179.0     3022.0       404.0   \n",
       "\n",
       "       enginesize  emission  torque    year  \n",
       "count       826.0     826.0   826.0   826.0  \n",
       "mean       1589.3     129.0   252.4  2017.0  \n",
       "std         477.1      30.6   124.8     2.0  \n",
       "min           0.0       0.0     0.0  2009.0  \n",
       "25%        1242.0     114.0   160.0  2016.0  \n",
       "50%        1499.0     125.0   230.0  2017.0  \n",
       "75%        1968.0     145.8   320.0  2018.0  \n",
       "max        3342.0     239.0   700.0  2021.0  "
      ]
     },
     "execution_count": 52,
     "metadata": {},
     "output_type": "execute_result"
    }
   ],
   "source": [
    "x_train_scaled = pd.DataFrame(x_train_scaled, columns=x_train.columns)\n",
    "x_test_scaled = pd.DataFrame(x_test_scaled, columns=x_test.columns)\n",
    "\n",
    "np.round(x_train.describe(), 1)"
   ]
  },
  {
   "cell_type": "code",
   "execution_count": 53,
   "id": "252c9ec8",
   "metadata": {},
   "outputs": [
    {
     "data": {
      "image/png": "[encoded data removed]",
      "text/plain": [
       "<Figure size 864x360 with 2 Axes>"
      ]
     },
     "metadata": {
      "needs_background": "light"
     },
     "output_type": "display_data"
    }
   ],
   "source": [
    "#Comparing the variable distribution before and after scaling \n",
    "\n",
    "fig, (ax1, ax2) = plt.subplots(ncols=2, figsize=(12, 5))\n",
    "\n",
    "#before scaling\n",
    "ax1.set_title('Before Scaling')\n",
    "sns.kdeplot(x_train['mileage'], ax=ax1)\n",
    "sns.kdeplot(x_train['weight'], ax=ax1)\n",
    "sns.kdeplot(x_train['model'], ax=ax1)\n",
    "\n",
    "#after scaling\n",
    "ax2.set_title('After Min-Max Scaling')\n",
    "sns.kdeplot(x_train_scaled['mileage'], ax=ax2)\n",
    "sns.kdeplot(x_train_scaled['weight'], ax=ax2)\n",
    "sns.kdeplot(x_train_scaled['model'], ax=ax2)\n",
    "plt.show()"
   ]
  },
  {
   "cell_type": "code",
   "execution_count": 54,
   "id": "3c229806",
   "metadata": {},
   "outputs": [],
   "source": [
    "from sklearn.linear_model import Lasso\n",
    "from sklearn import svm\n",
    "from sklearn.svm import LinearSVR\n",
    "from sklearn.tree import DecisionTreeRegressor\n",
    "from sklearn.linear_model import LinearRegression\n",
    "from sklearn.ensemble import RandomForestRegressor\n",
    "from sklearn.linear_model import LogisticRegression\n",
    "from sklearn.metrics import mean_absolute_error, mean_squared_error, r2_score\n",
    "from sklearn.model_selection import RandomizedSearchCV, GridSearchCV"
   ]
  },
  {
   "cell_type": "markdown",
   "id": "ba3d0f92",
   "metadata": {},
   "source": [
    "#### Splitting the data into train, validation and test "
   ]
  },
  {
   "cell_type": "code",
   "execution_count": 55,
   "id": "de4d8408",
   "metadata": {},
   "outputs": [
    {
     "name": "stdout",
     "output_type": "stream",
     "text": [
      "x_train shape: (746, 18)\n",
      "x_test shape: (155, 18)\n",
      "y_train shape: (746,)\n",
      "y_test shape: (155,)\n",
      "x_val shape: (132, 18)\n",
      "y_val shape: (132,)\n"
     ]
    }
   ],
   "source": [
    "#Shuffle the data\n",
    "data_shuffled = data.sample(frac=1)\n",
    "#Splitting the data \n",
    "x = data_shuffled.drop(\"price\", axis=1)\n",
    "y = data_shuffled[\"price\"]\n",
    "\n",
    "\n",
    "#Set aside 20% of train and test data for evaluation\n",
    "x_train, x_test, y_train, y_test = train_test_split(x, y, test_size=0.15, random_state = 42)\n",
    "\n",
    "#Set validation data set\n",
    "x_train, x_val, y_train, y_val = train_test_split(x_train, y_train, test_size=0.15, random_state=42)\n",
    "\n",
    "\n",
    "print(\"x_train shape: {}\".format(x_train.shape))\n",
    "print(\"x_test shape: {}\".format(x_test.shape))\n",
    "print(\"y_train shape: {}\".format(y_train.shape))\n",
    "print(\"y_test shape: {}\".format(y_test.shape))\n",
    "print(\"x_val shape: {}\".format(x_val.shape))\n",
    "print(\"y_val shape: {}\".format(y_val.shape))\n"
   ]
  },
  {
   "cell_type": "code",
   "execution_count": 56,
   "id": "5f1404fa",
   "metadata": {},
   "outputs": [
    {
     "data": {
      "text/plain": [
       "RandomForestRegressor(n_jobs=-1, random_state=42)"
      ]
     },
     "execution_count": 56,
     "metadata": {},
     "output_type": "execute_result"
    }
   ],
   "source": [
    "rf = RandomForestRegressor(n_jobs=-1,random_state=42)\n",
    "#Fit the model\n",
    "rf.fit(data.drop(\"price\", axis=1), data[\"price\"])"
   ]
  },
  {
   "cell_type": "code",
   "execution_count": 57,
   "id": "e833bd1c",
   "metadata": {},
   "outputs": [
    {
     "data": {
      "text/plain": [
       "0.9672003717653767"
      ]
     },
     "execution_count": 57,
     "metadata": {},
     "output_type": "execute_result"
    }
   ],
   "source": [
    "rf.score(data.drop(\"price\", axis=1), data[\"price\"])"
   ]
  },
  {
   "cell_type": "markdown",
   "id": "c3af7b88",
   "metadata": {},
   "source": [
    "#### Building an evaluation function"
   ]
  },
  {
   "cell_type": "code",
   "execution_count": 58,
   "id": "624266c1",
   "metadata": {},
   "outputs": [],
   "source": [
    "def show_scores(rf):\n",
    "    train_preds = rf.predict(x_train)\n",
    "    val_preds = rf.predict(x_val)\n",
    "    scores = {\"Training MAE\": mean_absolute_error(y_train, train_preds),\n",
    "              \"Valid MAE\": mean_absolute_error(y_val, val_preds),\n",
    "              \"Training MSE\": mean_squared_error(y_train, train_preds),\n",
    "              \"Valid MSE\": mean_squared_error(y_val, val_preds),\n",
    "              \"Training R^2\": r2_score(y_train, train_preds),\n",
    "              \"Valid R^2\": r2_score(y_val,val_preds),\n",
    "              \"Training RMSE\": np.sqrt(mean_squared_error(y_train, train_preds)),\n",
    "              \"Valid RMSE\": np.sqrt(mean_squared_error(y_val, val_preds))}\n",
    "\n",
    "    return scores"
   ]
  },
  {
   "cell_type": "code",
   "execution_count": 59,
   "id": "e353f71a",
   "metadata": {},
   "outputs": [
    {
     "data": {
      "text/plain": [
       "{'Training MAE': 860.7867911591072,\n",
       " 'Valid MAE': 956.1689960135923,\n",
       " 'Training MSE': 4670239.931659178,\n",
       " 'Valid MSE': 2740305.6672492134,\n",
       " 'Training R^2': 0.9616615110096617,\n",
       " 'Valid R^2': 0.9807572191100143,\n",
       " 'Training RMSE': 2161.0737913498415,\n",
       " 'Valid RMSE': 1655.3868633190289}"
      ]
     },
     "execution_count": 59,
     "metadata": {},
     "output_type": "execute_result"
    }
   ],
   "source": [
    "show_scores(rf)"
   ]
  },
  {
   "cell_type": "code",
   "execution_count": 60,
   "id": "dfcb7c3d",
   "metadata": {},
   "outputs": [
    {
     "name": "stdout",
     "output_type": "stream",
     "text": [
      "Fitting 5 folds for each of 300 candidates, totalling 1500 fits\n"
     ]
    },
    {
     "data": {
      "text/plain": [
       "RandomizedSearchCV(cv=5,\n",
       "                   estimator=RandomForestRegressor(n_jobs=-1, random_state=42),\n",
       "                   n_iter=300,\n",
       "                   param_distributions={'max_depth': [None, 3, 5, 10],\n",
       "                                        'max_features': [0.5, 1, 'sqrt',\n",
       "                                                         'auto'],\n",
       "                                        'min_samples_leaf': array([ 1,  3,  5,  7,  9, 11, 13, 15, 17, 19]),\n",
       "                                        'min_samples_split': array([ 2,  4,  6,  8, 10, 12, 14, 16, 18]),\n",
       "                                        'n_estimators': array([10, 20, 30, 40, 50, 60, 70, 80, 90])},\n",
       "                   verbose=True)"
      ]
     },
     "execution_count": 60,
     "metadata": {},
     "output_type": "execute_result"
    }
   ],
   "source": [
    "rf_grid = {\"n_estimators\": np.arange(10, 100, 10),\n",
    "           \"max_depth\": [None, 3, 5, 10],\n",
    "           \"min_samples_split\": np.arange(2, 20, 2),\n",
    "           \"min_samples_leaf\": np.arange(1, 20, 2),\n",
    "           \"max_features\":[0.5, 1, \"sqrt\", \"auto\"] \n",
    "          }\n",
    "rs_model = RandomizedSearchCV(RandomForestRegressor(n_jobs=-1,random_state=42),\n",
    "                             param_distributions=rf_grid,\n",
    "                             n_iter=300,\n",
    "                             cv=5,\n",
    "                             verbose=True)\n",
    "\n",
    "#Fit the RandomizedSearchCV model\n",
    "rs_model.fit(x_train, y_train)"
   ]
  },
  {
   "cell_type": "code",
   "execution_count": 61,
   "id": "c9f1ec88",
   "metadata": {},
   "outputs": [
    {
     "data": {
      "text/plain": [
       "{'n_estimators': 50,\n",
       " 'min_samples_split': 4,\n",
       " 'min_samples_leaf': 3,\n",
       " 'max_features': 0.5,\n",
       " 'max_depth': 10}"
      ]
     },
     "execution_count": 61,
     "metadata": {},
     "output_type": "execute_result"
    }
   ],
   "source": [
    "#Best Model Parameters\n",
    "rs_model.best_params_"
   ]
  },
  {
   "cell_type": "code",
   "execution_count": 62,
   "id": "65482a0a",
   "metadata": {},
   "outputs": [
    {
     "data": {
      "text/plain": [
       "{'Training MAE': 1521.0362283393897,\n",
       " 'Valid MAE': 2656.504375024676,\n",
       " 'Training MSE': 14626376.775531799,\n",
       " 'Valid MSE': 18567882.148984347,\n",
       " 'Training R^2': 0.8799305403613279,\n",
       " 'Valid R^2': 0.8696139295501852,\n",
       " 'Training RMSE': 3824.4446362225976,\n",
       " 'Valid RMSE': 4309.046547553687}"
      ]
     },
     "execution_count": 62,
     "metadata": {},
     "output_type": "execute_result"
    }
   ],
   "source": [
    "#Evaluate the model\n",
    "show_scores(rs_model)"
   ]
  },
  {
   "cell_type": "code",
   "execution_count": 63,
   "id": "380a9e96",
   "metadata": {},
   "outputs": [
    {
     "data": {
      "text/plain": [
       "RandomForestRegressor(max_depth=10, max_features='sqrt', min_samples_leaf=3,\n",
       "                      min_samples_split=6, n_estimators=90, n_jobs=-1,\n",
       "                      random_state=42)"
      ]
     },
     "execution_count": 63,
     "metadata": {},
     "output_type": "execute_result"
    }
   ],
   "source": [
    "ideal_rf_model = RandomForestRegressor(n_estimators=90,\n",
    "                                       min_samples_split=6,\n",
    "                                       min_samples_leaf=3,\n",
    "                                       max_features='sqrt',\n",
    "                                       max_depth=10,\n",
    "                                       n_jobs=-1,\n",
    "                                       max_samples=None,\n",
    "                                       random_state=42)\n",
    "ideal_rf_model.fit(x_train, y_train)"
   ]
  },
  {
   "cell_type": "code",
   "execution_count": 64,
   "id": "677e55a2",
   "metadata": {},
   "outputs": [
    {
     "data": {
      "text/plain": [
       "{'Training MAE': 1650.5496337169536,\n",
       " 'Valid MAE': 2752.745539507201,\n",
       " 'Training MSE': 15802907.733172582,\n",
       " 'Valid MSE': 20991731.70513508,\n",
       " 'Training R^2': 0.8702722744421552,\n",
       " 'Valid R^2': 0.852593344410091,\n",
       " 'Training RMSE': 3975.2871258781524,\n",
       " 'Valid RMSE': 4581.673461207714}"
      ]
     },
     "execution_count": 64,
     "metadata": {},
     "output_type": "execute_result"
    }
   ],
   "source": [
    "show_scores(ideal_rf_model)"
   ]
  },
  {
   "cell_type": "code",
   "execution_count": 65,
   "id": "efa57fb4",
   "metadata": {},
   "outputs": [
    {
     "data": {
      "text/plain": [
       "{'Training MAE': 860.7867911591072,\n",
       " 'Valid MAE': 956.1689960135925,\n",
       " 'Training MSE': 4670239.931659178,\n",
       " 'Valid MSE': 2740305.6672492134,\n",
       " 'Training R^2': 0.9616615110096617,\n",
       " 'Valid R^2': 0.9807572191100143,\n",
       " 'Training RMSE': 2161.0737913498415,\n",
       " 'Valid RMSE': 1655.3868633190289}"
      ]
     },
     "execution_count": 65,
     "metadata": {},
     "output_type": "execute_result"
    }
   ],
   "source": [
    "show_scores(rf)"
   ]
  },
  {
   "cell_type": "markdown",
   "id": "21531588",
   "metadata": {},
   "source": [
    "From the experiment carried out, the RandomForest baseline model outperfromed the tuned model. "
   ]
  },
  {
   "cell_type": "code",
   "execution_count": 66,
   "id": "3e328fe9",
   "metadata": {},
   "outputs": [],
   "source": [
    "predictions = rf.predict(x_test)"
   ]
  },
  {
   "cell_type": "code",
   "execution_count": 67,
   "id": "a1d86b6b",
   "metadata": {},
   "outputs": [
    {
     "name": "stderr",
     "output_type": "stream",
     "text": [
      "c:\\Users\\David\\anaconda3\\lib\\site-packages\\seaborn\\distributions.py:2619: FutureWarning: `distplot` is a deprecated function and will be removed in a future version. Please adapt your code to use either `displot` (a figure-level function with similar flexibility) or `histplot` (an axes-level function for histograms).\n",
      "  warnings.warn(msg, FutureWarning)\n"
     ]
    },
    {
     "data": {
      "image/png": "[encoded data removed]",
      "text/plain": [
       "<Figure size 432x288 with 1 Axes>"
      ]
     },
     "metadata": {
      "needs_background": "light"
     },
     "output_type": "display_data"
    }
   ],
   "source": [
    "sns.distplot(y_test-predictions);"
   ]
  },
  {
   "cell_type": "code",
   "execution_count": 68,
   "id": "7a384431",
   "metadata": {},
   "outputs": [
    {
     "name": "stdout",
     "output_type": "stream",
     "text": [
      "MAE: 783.6164578690128\n",
      "MSE: 1387316.99008632\n",
      "RMSE: 1177.8442129952161\n"
     ]
    }
   ],
   "source": [
    "print('MAE:', mean_absolute_error(y_test, predictions))\n",
    "print('MSE:', mean_squared_error(y_test, predictions))\n",
    "print('RMSE:', np.sqrt(mean_squared_error(y_test, predictions)))"
   ]
  },
  {
   "cell_type": "code",
   "execution_count": 69,
   "id": "33b6c3f6",
   "metadata": {},
   "outputs": [
    {
     "data": {
      "text/plain": [
       "<matplotlib.collections.PathCollection at 0x146c5497550>"
      ]
     },
     "execution_count": 69,
     "metadata": {},
     "output_type": "execute_result"
    },
    {
     "data": {
      "image/png": "[encoded data removed]",
      "text/plain": [
       "<Figure size 432x288 with 1 Axes>"
      ]
     },
     "metadata": {
      "needs_background": "light"
     },
     "output_type": "display_data"
    }
   ],
   "source": [
    "plt.scatter(y_test,predictions)"
   ]
  },
  {
   "cell_type": "markdown",
   "id": "304dda2e",
   "metadata": {},
   "source": [
    "#### Prediction using Linear Regression"
   ]
  },
  {
   "cell_type": "code",
   "execution_count": 70,
   "id": "268d313b",
   "metadata": {},
   "outputs": [
    {
     "data": {
      "text/plain": [
       "LinearRegression(n_jobs=-1)"
      ]
     },
     "execution_count": 70,
     "metadata": {},
     "output_type": "execute_result"
    }
   ],
   "source": [
    "np.random.seed(42)\n",
    "\n",
    "lr_model = LinearRegression(n_jobs=-1)\n",
    "#Fit the model\n",
    "lr_model.fit(data.drop(\"price\", axis=1), data[\"price\"])"
   ]
  },
  {
   "cell_type": "code",
   "execution_count": 71,
   "id": "a16a15ac",
   "metadata": {},
   "outputs": [
    {
     "data": {
      "text/plain": [
       "0.7301053790101506"
      ]
     },
     "execution_count": 71,
     "metadata": {},
     "output_type": "execute_result"
    }
   ],
   "source": [
    "lr_model.score(data.drop(\"price\", axis=1), data[\"price\"])"
   ]
  },
  {
   "cell_type": "code",
   "execution_count": 72,
   "id": "601303ca",
   "metadata": {},
   "outputs": [],
   "source": [
    "def show_scores(lr_model):\n",
    "    train_preds = lr_model.predict(x_train)\n",
    "    val_preds = lr_model.predict(x_val)\n",
    "    scores = {\"Training MAE\": mean_absolute_error(y_train, train_preds),\n",
    "              \"Valid MAE\": mean_absolute_error(y_val, val_preds),\n",
    "              \"Training MSE\": mean_squared_error(y_train, train_preds),\n",
    "              \"Valid MSE\": mean_squared_error(y_val, val_preds),\n",
    "              \"Training R^2\": r2_score(y_train, train_preds),\n",
    "              \"Valid R^2\": r2_score(y_val,val_preds),\n",
    "              \"Training RMSE\": np.sqrt(mean_squared_error(y_train, train_preds)),\n",
    "              \"Valid RMSE\": np.sqrt(mean_squared_error(y_val, val_preds))\n",
    "              }\n",
    "\n",
    "    return scores"
   ]
  },
  {
   "cell_type": "code",
   "execution_count": 73,
   "id": "82aab582",
   "metadata": {},
   "outputs": [
    {
     "data": {
      "text/plain": [
       "{'Training MAE': 3141.7946043706875,\n",
       " 'Valid MAE': 3561.1911365261344,\n",
       " 'Training MSE': 35892319.418665156,\n",
       " 'Valid MSE': 33511123.274210136,\n",
       " 'Training R^2': 0.7053561887598063,\n",
       " 'Valid R^2': 0.7646805572641684,\n",
       " 'Training RMSE': 5991.0198980361565,\n",
       " 'Valid RMSE': 5788.8792761820605}"
      ]
     },
     "execution_count": 73,
     "metadata": {},
     "output_type": "execute_result"
    }
   ],
   "source": [
    "show_scores(lr_model)"
   ]
  },
  {
   "cell_type": "markdown",
   "id": "3457251c",
   "metadata": {},
   "source": [
    "#### Predictions with different models "
   ]
  },
  {
   "cell_type": "code",
   "execution_count": 74,
   "id": "dff9bc6d",
   "metadata": {},
   "outputs": [],
   "source": [
    "import xgboost as xgb\n",
    "from xgboost import XGBRegressor"
   ]
  },
  {
   "cell_type": "code",
   "execution_count": 75,
   "id": "bf7bcac8",
   "metadata": {},
   "outputs": [],
   "source": [
    "models = {\"Logistic Regression\": LogisticRegression(),\n",
    "          \"Decision Tree Regressor\": DecisionTreeRegressor(),\n",
    "          \"Lasso\": Lasso(),\n",
    "          \"SVM\": LinearSVR(),\n",
    "          \"XGBoost\": XGBRegressor()}\n",
    "def fit_score(models, x_train, x_test, y_train, y_test):\n",
    "    \n",
    "    #Set Random Seed\n",
    "    np.random.seed(42)\n",
    "    \n",
    "    #Dictionary to keep model scores\n",
    "    model_scores = {}\n",
    "    for name, model in models.items():\n",
    "        #Fit the model\n",
    "        model.fit(x_train, y_train)\n",
    "        #Evaluate the model\n",
    "        model_scores[name] = model.score(x_test, y_test)\n",
    "    return model_scores"
   ]
  },
  {
   "cell_type": "code",
   "execution_count": 76,
   "id": "9b9f4595",
   "metadata": {},
   "outputs": [
    {
     "name": "stderr",
     "output_type": "stream",
     "text": [
      "c:\\Users\\David\\anaconda3\\lib\\site-packages\\sklearn\\linear_model\\_logistic.py:763: ConvergenceWarning: lbfgs failed to converge (status=1):\n",
      "STOP: TOTAL NO. of ITERATIONS REACHED LIMIT.\n",
      "\n",
      "Increase the number of iterations (max_iter) or scale the data as shown in:\n",
      "    https://scikit-learn.org/stable/modules/preprocessing.html\n",
      "Please also refer to the documentation for alternative solver options:\n",
      "    https://scikit-learn.org/stable/modules/linear_model.html#logistic-regression\n",
      "  n_iter_i = _check_optimize_result(\n",
      "c:\\Users\\David\\anaconda3\\lib\\site-packages\\sklearn\\svm\\_base.py:985: ConvergenceWarning: Liblinear failed to converge, increase the number of iterations.\n",
      "  warnings.warn(\"Liblinear failed to converge, increase \"\n"
     ]
    },
    {
     "data": {
      "text/plain": [
       "{'Logistic Regression': 0.0064516129032258064,\n",
       " 'Decision Tree Regressor': 0.7511747183302476,\n",
       " 'Lasso': 0.8265742072084995,\n",
       " 'SVM': 0.7198450675007757,\n",
       " 'XGBoost': 0.8931362453221527}"
      ]
     },
     "execution_count": 76,
     "metadata": {},
     "output_type": "execute_result"
    }
   ],
   "source": [
    "model_scores = fit_score(models=models,\n",
    "                        x_train=x_train,\n",
    "                        x_test=x_test,\n",
    "                        y_train = y_train,\n",
    "                        y_test=y_test)\n",
    "model_scores"
   ]
  },
  {
   "cell_type": "markdown",
   "id": "5fb5518c",
   "metadata": {},
   "source": [
    "#### Model Comparison\n"
   ]
  },
  {
   "cell_type": "code",
   "execution_count": 77,
   "id": "07ac19c2",
   "metadata": {},
   "outputs": [
    {
     "data": {
      "image/png": "[encoded data removed]",
      "text/plain": [
       "<Figure size 432x288 with 1 Axes>"
      ]
     },
     "metadata": {
      "needs_background": "light"
     },
     "output_type": "display_data"
    }
   ],
   "source": [
    "model_compare = pd.DataFrame(model_scores, index=[\"accuracy\"])\n",
    "model_compare.T.plot.bar();"
   ]
  },
  {
   "cell_type": "code",
   "execution_count": 78,
   "id": "9677e820",
   "metadata": {},
   "outputs": [
    {
     "data": {
      "text/plain": [
       "Lasso()"
      ]
     },
     "execution_count": 78,
     "metadata": {},
     "output_type": "execute_result"
    }
   ],
   "source": [
    "np.random.seed(42)\n",
    "las = Lasso()\n",
    "#Fit the model\n",
    "las.fit(data.drop(\"price\", axis=1), data[\"price\"])"
   ]
  },
  {
   "cell_type": "code",
   "execution_count": 79,
   "id": "0226d45f",
   "metadata": {},
   "outputs": [
    {
     "data": {
      "text/plain": [
       "0.7301052413482759"
      ]
     },
     "execution_count": 79,
     "metadata": {},
     "output_type": "execute_result"
    }
   ],
   "source": [
    "las.score(data.drop(\"price\", axis=1), data[\"price\"])"
   ]
  },
  {
   "cell_type": "code",
   "execution_count": 80,
   "id": "e5d3563c",
   "metadata": {},
   "outputs": [],
   "source": [
    "def show_scores(las):\n",
    "    train_preds = las.predict(x_train)\n",
    "    val_preds = las.predict(x_val)\n",
    "    scores = {\"Training MAE\": mean_absolute_error(y_train, train_preds),\n",
    "              \"Valid MAE\": mean_absolute_error(y_val, val_preds),\n",
    "              \"Training MSE\": mean_squared_error(y_train, train_preds),\n",
    "              \"Valid MSE\": mean_squared_error(y_val, val_preds),\n",
    "              \"Training R^2\": r2_score(y_train, train_preds),\n",
    "              \"Valid R^2\": r2_score(y_val,val_preds),\n",
    "              \"Training RMSE\": np.sqrt(mean_squared_error(y_train, train_preds)),\n",
    "              \"Valid RMSE\": np.sqrt(mean_squared_error(y_val, val_preds))}\n",
    "\n",
    "    return scores"
   ]
  },
  {
   "cell_type": "code",
   "execution_count": 81,
   "id": "354e91dc",
   "metadata": {},
   "outputs": [
    {
     "data": {
      "text/plain": [
       "{'Training MAE': 3141.640934480585,\n",
       " 'Valid MAE': 3561.115593317187,\n",
       " 'Training MSE': 35893334.831120215,\n",
       " 'Valid MSE': 33508859.280819632,\n",
       " 'Training R^2': 0.7053478531325583,\n",
       " 'Valid R^2': 0.7646964553186338,\n",
       " 'Training RMSE': 5991.104641977155,\n",
       " 'Valid RMSE': 5788.683726100402}"
      ]
     },
     "execution_count": 81,
     "metadata": {},
     "output_type": "execute_result"
    }
   ],
   "source": [
    "show_scores(las)"
   ]
  },
  {
   "cell_type": "code",
   "execution_count": 82,
   "id": "e7633dba",
   "metadata": {},
   "outputs": [
    {
     "data": {
      "text/plain": [
       "XGBRegressor(base_score=0.5, booster='gbtree', callbacks=None,\n",
       "             colsample_bylevel=1, colsample_bynode=1, colsample_bytree=1,\n",
       "             early_stopping_rounds=None, enable_categorical=False,\n",
       "             eval_metric=None, gamma=0, gpu_id=-1, grow_policy='depthwise',\n",
       "             importance_type=None, interaction_constraints='',\n",
       "             learning_rate=0.300000012, max_bin=256, max_cat_to_onehot=4,\n",
       "             max_delta_step=0, max_depth=6, max_leaves=0, min_child_weight=1,\n",
       "             missing=nan, monotone_constraints='()', n_estimators=100, n_jobs=0,\n",
       "             num_parallel_tree=1, predictor='auto', random_state=0, reg_alpha=0,\n",
       "             reg_lambda=1, ...)"
      ]
     },
     "execution_count": 82,
     "metadata": {},
     "output_type": "execute_result"
    }
   ],
   "source": [
    "np.random.seed(42)\n",
    "xgbr = XGBRegressor()\n",
    "#Fit the model\n",
    "xgbr.fit(data.drop(\"price\", axis=1), data[\"price\"])"
   ]
  },
  {
   "cell_type": "code",
   "execution_count": 83,
   "id": "1babaeb9",
   "metadata": {},
   "outputs": [
    {
     "data": {
      "text/plain": [
       "0.9992502285122539"
      ]
     },
     "execution_count": 83,
     "metadata": {},
     "output_type": "execute_result"
    }
   ],
   "source": [
    "xgbr.score(data.drop(\"price\", axis=1), data[\"price\"])"
   ]
  },
  {
   "cell_type": "code",
   "execution_count": 84,
   "id": "fb2fad8a",
   "metadata": {},
   "outputs": [],
   "source": [
    "def show_scores(xgbr):\n",
    "    train_preds = xgbr.predict(x_train)\n",
    "    val_preds = xgbr.predict(x_val)\n",
    "    scores = {\"Training MAE\": mean_absolute_error(y_train, train_preds),\n",
    "              \"Valid MAE\": mean_absolute_error(y_val, val_preds),\n",
    "              \"Training MSE\": mean_squared_error(y_train, train_preds),\n",
    "              \"Valid MSE\": mean_squared_error(y_val, val_preds),\n",
    "              \"Training R^2\": r2_score(y_train, train_preds),\n",
    "              \"Valid R^2\": r2_score(y_val,val_preds),\n",
    "              \"Training RMSE\": np.sqrt(mean_squared_error(y_train, train_preds)),\n",
    "              \"Valid RMSE\": np.sqrt(mean_squared_error(y_val, val_preds))}\n",
    "\n",
    "    return scores"
   ]
  },
  {
   "cell_type": "code",
   "execution_count": 85,
   "id": "f87ee595",
   "metadata": {},
   "outputs": [
    {
     "data": {
      "text/plain": [
       "{'Training MAE': 191.8249652443239,\n",
       " 'Valid MAE': 193.1003399473248,\n",
       " 'Training MSE': 78281.87102711976,\n",
       " 'Valid MSE': 82225.43725196927,\n",
       " 'Training R^2': 0.999357375917633,\n",
       " 'Valid R^2': 0.9994226023426754,\n",
       " 'Training RMSE': 279.78897588561233,\n",
       " 'Valid RMSE': 286.74978160753545}"
      ]
     },
     "execution_count": 85,
     "metadata": {},
     "output_type": "execute_result"
    }
   ],
   "source": [
    "show_scores(xgbr)"
   ]
  },
  {
   "cell_type": "code",
   "execution_count": 86,
   "id": "e30c9f0b",
   "metadata": {},
   "outputs": [
    {
     "data": {
      "text/plain": [
       "{'objective': 'reg:squarederror',\n",
       " 'base_score': 0.5,\n",
       " 'booster': 'gbtree',\n",
       " 'callbacks': None,\n",
       " 'colsample_bylevel': 1,\n",
       " 'colsample_bynode': 1,\n",
       " 'colsample_bytree': 1,\n",
       " 'early_stopping_rounds': None,\n",
       " 'enable_categorical': False,\n",
       " 'eval_metric': None,\n",
       " 'gamma': 0,\n",
       " 'gpu_id': -1,\n",
       " 'grow_policy': 'depthwise',\n",
       " 'importance_type': None,\n",
       " 'interaction_constraints': '',\n",
       " 'learning_rate': 0.300000012,\n",
       " 'max_bin': 256,\n",
       " 'max_cat_to_onehot': 4,\n",
       " 'max_delta_step': 0,\n",
       " 'max_depth': 6,\n",
       " 'max_leaves': 0,\n",
       " 'min_child_weight': 1,\n",
       " 'missing': nan,\n",
       " 'monotone_constraints': '()',\n",
       " 'n_estimators': 100,\n",
       " 'n_jobs': 0,\n",
       " 'num_parallel_tree': 1,\n",
       " 'predictor': 'auto',\n",
       " 'random_state': 0,\n",
       " 'reg_alpha': 0,\n",
       " 'reg_lambda': 1,\n",
       " 'sampling_method': 'uniform',\n",
       " 'scale_pos_weight': 1,\n",
       " 'subsample': 1,\n",
       " 'tree_method': 'exact',\n",
       " 'validate_parameters': 1,\n",
       " 'verbosity': None}"
      ]
     },
     "execution_count": 86,
     "metadata": {},
     "output_type": "execute_result"
    }
   ],
   "source": [
    "xgbr.get_params()"
   ]
  },
  {
   "cell_type": "code",
   "execution_count": 87,
   "id": "41c8388e",
   "metadata": {},
   "outputs": [
    {
     "name": "stdout",
     "output_type": "stream",
     "text": [
      "Optimum parameters {'gamma': 0.05, 'learning_rate': 0.1, 'max_depth': 5, 'n_estimators': 100, 'n_jobs': -1, 'objective': 'reg:squarederror', 'reg_alpha': 0.5, 'reg_lambda': 1, 'scale_pos_weight': 0, 'subsample': 0.2}\n",
      "Wall time: 45min 41s\n"
     ]
    }
   ],
   "source": [
    "%%time\n",
    "param_grid = dict( n_jobs=[-1],\n",
    "                   learning_rate=[0.1, 0.5],\n",
    "                   objective=['reg:squarederror'],\n",
    "                   max_depth=[5, 10, 15], \n",
    "                   n_estimators=[100, 500, 1000],\n",
    "                   subsample=[0.2, 0.8, 1.0],\n",
    "                   gamma=[0.05, 0.5],\n",
    "                   scale_pos_weight=[0, 1],\n",
    "                   reg_alpha=[0, 0.5],\n",
    "                   reg_lambda=[1, 0],)\n",
    "\n",
    "xgbr_model = XGBRegressor(random_state=42, verbosity=1)\n",
    "\n",
    "rs_xgbr = GridSearchCV(estimator=xgbr_model,\n",
    "                       param_grid=param_grid,\n",
    "                       scoring='neg_root_mean_squared_error')\n",
    "\n",
    "best_model = rs_xgbr.fit(x_train, y_train)\n",
    "print('Optimum parameters', best_model.best_params_)"
   ]
  },
  {
   "cell_type": "code",
   "execution_count": 88,
   "id": "5242444c",
   "metadata": {},
   "outputs": [],
   "source": [
    "regressor = XGBRegressor(gamma=0.05,\n",
    "                         learning_rate=0.1,\n",
    "                         max_depth=5,\n",
    "                         n_estimators=100,\n",
    "                         n_jobs=-1,\n",
    "                         objective='reg:squarederror',\n",
    "                         subsample=0.8,\n",
    "                         scale_pos_weight=0,\n",
    "                         reg_alpha=0.5,\n",
    "                         reg_lambda=1)\n",
    "model = regressor.fit(x_train, y_train)"
   ]
  },
  {
   "cell_type": "code",
   "execution_count": 89,
   "id": "eeef8fc4",
   "metadata": {},
   "outputs": [
    {
     "data": {
      "text/plain": [
       "{'Training MAE': 786.4861841278486,\n",
       " 'Valid MAE': 2543.5208925189395,\n",
       " 'Training MSE': 1180378.3214061446,\n",
       " 'Valid MSE': 16320809.44910812,\n",
       " 'Training R^2': 0.9903101506685147,\n",
       " 'Valid R^2': 0.8853931647371095,\n",
       " 'Training RMSE': 1086.4521717066723,\n",
       " 'Valid RMSE': 4039.9021583583085}"
      ]
     },
     "execution_count": 89,
     "metadata": {},
     "output_type": "execute_result"
    }
   ],
   "source": [
    "show_scores(regressor)"
   ]
  },
  {
   "cell_type": "code",
   "execution_count": 90,
   "id": "3e24f902",
   "metadata": {},
   "outputs": [],
   "source": [
    "y_preds = xgbr.predict(x_test)"
   ]
  },
  {
   "cell_type": "code",
   "execution_count": 91,
   "id": "7d1c5437",
   "metadata": {},
   "outputs": [
    {
     "name": "stdout",
     "output_type": "stream",
     "text": [
      "MAE: 226.87716103830644\n",
      "MSE: 152085.95226779446\n",
      "R^2: 0.998300007679995\n"
     ]
    }
   ],
   "source": [
    "print('MAE:', mean_absolute_error(y_test, y_preds))\n",
    "print('MSE:', mean_squared_error(y_test, y_preds))\n",
    "print('R^2:', r2_score(y_test, y_preds))"
   ]
  },
  {
   "cell_type": "code",
   "execution_count": 104,
   "id": "8f4c72b3",
   "metadata": {},
   "outputs": [
    {
     "data": {
      "image/png": "[encoded data removed]",
      "text/plain": [
       "<Figure size 864x504 with 1 Axes>"
      ]
     },
     "metadata": {
      "needs_background": "light"
     },
     "output_type": "display_data"
    }
   ],
   "source": [
    "fig= plt.figure(figsize=(12,7))\n",
    "x_ax = range(len(y_test))\n",
    "plt.plot(x_ax, y_test, label=\"Actual\")\n",
    "plt.plot(x_ax, y_preds, label=\"Predicted\")\n",
    "plt.title(\"Actual vs Predicted\")\n",
    "plt.xlabel(\"Frequency\")\n",
    "plt.ylabel(\"Price\")\n",
    "plt.legend()\n",
    "plt.show()"
   ]
  },
  {
   "cell_type": "code",
   "execution_count": 105,
   "id": "2d33f5d9",
   "metadata": {},
   "outputs": [
    {
     "ename": "TypeError",
     "evalue": "crosstab() got an unexpected keyword argument 'label'",
     "output_type": "error",
     "traceback": [
      "\u001b[1;31m---------------------------------------------------------------------------\u001b[0m",
      "\u001b[1;31mTypeError\u001b[0m                                 Traceback (most recent call last)",
      "\u001b[1;32m~\\AppData\\Local\\Temp/ipykernel_4600/63098102.py\u001b[0m in \u001b[0;36m<module>\u001b[1;34m\u001b[0m\n\u001b[0;32m      1\u001b[0m \u001b[0mfig\u001b[0m\u001b[1;33m=\u001b[0m \u001b[0mplt\u001b[0m\u001b[1;33m.\u001b[0m\u001b[0mfigure\u001b[0m\u001b[1;33m(\u001b[0m\u001b[0mfigsize\u001b[0m\u001b[1;33m=\u001b[0m\u001b[1;33m(\u001b[0m\u001b[1;36m12\u001b[0m\u001b[1;33m,\u001b[0m\u001b[1;36m7\u001b[0m\u001b[1;33m)\u001b[0m\u001b[1;33m)\u001b[0m\u001b[1;33m\u001b[0m\u001b[1;33m\u001b[0m\u001b[0m\n\u001b[0;32m      2\u001b[0m \u001b[0mx_ax\u001b[0m \u001b[1;33m=\u001b[0m \u001b[0mrange\u001b[0m\u001b[1;33m(\u001b[0m\u001b[0mlen\u001b[0m\u001b[1;33m(\u001b[0m\u001b[0my_test\u001b[0m\u001b[1;33m)\u001b[0m\u001b[1;33m)\u001b[0m\u001b[1;33m\u001b[0m\u001b[1;33m\u001b[0m\u001b[0m\n\u001b[1;32m----> 3\u001b[1;33m \u001b[0mpd\u001b[0m\u001b[1;33m.\u001b[0m\u001b[0mcrosstab\u001b[0m\u001b[1;33m(\u001b[0m\u001b[0mx_ax\u001b[0m\u001b[1;33m,\u001b[0m \u001b[0my_test\u001b[0m\u001b[1;33m,\u001b[0m \u001b[0mlabel\u001b[0m\u001b[1;33m=\u001b[0m\u001b[1;34m\"Actual\"\u001b[0m\u001b[1;33m)\u001b[0m\u001b[1;33m\u001b[0m\u001b[1;33m\u001b[0m\u001b[0m\n\u001b[0m\u001b[0;32m      4\u001b[0m \u001b[0mpd\u001b[0m\u001b[1;33m.\u001b[0m\u001b[0mcrosstab\u001b[0m\u001b[1;33m(\u001b[0m\u001b[0mx_ax\u001b[0m\u001b[1;33m,\u001b[0m \u001b[0my_preds\u001b[0m\u001b[1;33m,\u001b[0m \u001b[0mlabel\u001b[0m\u001b[1;33m=\u001b[0m\u001b[1;34m\"Predicted\"\u001b[0m\u001b[1;33m)\u001b[0m\u001b[1;33m\u001b[0m\u001b[1;33m\u001b[0m\u001b[0m\n\u001b[0;32m      5\u001b[0m \u001b[0mplt\u001b[0m\u001b[1;33m.\u001b[0m\u001b[0mtitle\u001b[0m\u001b[1;33m(\u001b[0m\u001b[1;34m\"Actual vs Predicted\"\u001b[0m\u001b[1;33m)\u001b[0m\u001b[1;33m\u001b[0m\u001b[1;33m\u001b[0m\u001b[0m\n",
      "\u001b[1;31mTypeError\u001b[0m: crosstab() got an unexpected keyword argument 'label'"
     ]
    },
    {
     "data": {
      "text/plain": [
       "<Figure size 864x504 with 0 Axes>"
      ]
     },
     "metadata": {},
     "output_type": "display_data"
    }
   ],
   "source": [
    "fig= plt.figure(figsize=(12,7))\n",
    "x_ax = range(len(y_test))\n",
    "pd.crosstab(x_ax, y_test, label=\"Actual\")\n",
    "pd.crosstab(x_ax, y_preds, label=\"Predicted\")\n",
    "plt.title(\"Actual vs Predicted\")\n",
    "plt.xlabel(\"Frequency\")\n",
    "plt.ylabel(\"Price\")\n",
    "plt.legend()\n",
    "plt.show()"
   ]
  },
  {
   "cell_type": "code",
   "execution_count": 94,
   "id": "558f5676",
   "metadata": {},
   "outputs": [
    {
     "data": {
      "image/png": "[encoded data removed]",
      "text/plain": [
       "<Figure size 864x504 with 1 Axes>"
      ]
     },
     "metadata": {
      "needs_background": "light"
     },
     "output_type": "display_data"
    }
   ],
   "source": [
    "fig= plt.figure(figsize=(12,7))\n",
    "feat_importances = pd.Series(xgbr.feature_importances_, index=x.columns)\n",
    "feat_importances.nlargest(5).plot(kind='barh')\n",
    "plt.show()"
   ]
  },
  {
   "cell_type": "code",
   "execution_count": 95,
   "id": "0a86abc8",
   "metadata": {},
   "outputs": [
    {
     "name": "stdout",
     "output_type": "stream",
     "text": [
      "MAE: 783.6164578690128\n",
      "MSE: 1387316.99008632\n",
      "R^2: 0.9844927937564781\n"
     ]
    }
   ],
   "source": [
    "rf_preds = rf.predict(x_test)\n",
    "print('MAE:', mean_absolute_error(y_test, rf_preds))\n",
    "print('MSE:', mean_squared_error(y_test, rf_preds))\n",
    "print('R^2:', r2_score(y_test, rf_preds))"
   ]
  },
  {
   "cell_type": "code",
   "execution_count": 96,
   "id": "2abfeac8",
   "metadata": {},
   "outputs": [
    {
     "name": "stdout",
     "output_type": "stream",
     "text": [
      "MAE: 2833.9300410827263\n",
      "MSE: 14291147.997125857\n",
      "R^2: 0.8402558456129509\n"
     ]
    }
   ],
   "source": [
    "lr_preds = lr_model.predict(x_test)\n",
    "print('MAE:', mean_absolute_error(y_test, lr_preds))\n",
    "print('MSE:', mean_squared_error(y_test, lr_preds))\n",
    "print('R^2:', r2_score(y_test, lr_preds))"
   ]
  },
  {
   "cell_type": "code",
   "execution_count": 97,
   "metadata": {},
   "outputs": [
    {
     "name": "stdout",
     "output_type": "stream",
     "text": [
      "MAE: 2833.2282616291614\n",
      "MSE: 14288298.917419853\n",
      "R^2: 0.8402876921677909\n"
     ]
    }
   ],
   "source": [
    "las_preds = las.predict(x_test)\n",
    "print('MAE:', mean_absolute_error(y_test, las_preds))\n",
    "print('MSE:', mean_squared_error(y_test, las_preds))\n",
    "print('R^2:', r2_score(y_test, las_preds))"
   ]
  },
  {
   "cell_type": "code",
   "execution_count": 98,
   "id": "319070e9",
   "metadata": {},
   "outputs": [],
   "source": [
    "#pickle.dump(xgbr, open(\"xgboost_car_price_pred_model1.pkl\", \"wb\"))"
   ]
  },
  {
   "cell_type": "code",
   "execution_count": 99,
   "id": "e58f020f",
   "metadata": {},
   "outputs": [],
   "source": [
    "#loaded_pickle_model = pickle.load(open(\"xgboost_car_price_pred_model1.pkl\", \"rb\"))"
   ]
  },
  {
   "cell_type": "code",
   "execution_count": 100,
   "id": "1b4a0626",
   "metadata": {},
   "outputs": [],
   "source": [
    "#pickle_ypreds = loaded_pickle_model.predict(x_test)\n",
    "#show_scores(xgbr)"
   ]
  },
  {
   "cell_type": "code",
   "execution_count": null,
   "id": "1e875ab5",
   "metadata": {},
   "outputs": [],
   "source": []
  }
 ],
 "metadata": {
  "kernelspec": {
   "display_name": "Python 3.9.7 ('base')",
   "language": "python",
   "name": "python3"
  },
  "language_info": {
   "codemirror_mode": {
    "name": "ipython",
    "version": 3
   },
   "file_extension": ".py",
   "mimetype": "text/x-python",
   "name": "python",
   "nbconvert_exporter": "python",
   "pygments_lexer": "ipython3",
   "version": "3.9.7"
  },
  "vscode": {
   "interpreter": {
    "hash": "84d8cac4d95fdd2ab02498a6ec40a50cb9882041e67cb52e6d8bcfda00d28db9"
   }
  }
 },
 "nbformat": 4,
 "nbformat_minor": 5
}
